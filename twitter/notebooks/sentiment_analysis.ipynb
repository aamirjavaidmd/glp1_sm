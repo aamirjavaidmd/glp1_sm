{
  "cells": [
    {
      "cell_type": "code",
      "source": [
        "# !pip install transformers"
      ],
      "metadata": {
        "id": "qQIdq1QDs3Te"
      },
      "execution_count": 1,
      "outputs": []
    },
    {
      "cell_type": "code",
      "execution_count": 2,
      "outputs": [],
      "source": [
        "import warnings\n",
        "\n",
        "warnings.filterwarnings('ignore')"
      ],
      "metadata": {
        "ExecuteTime": {
          "end_time": "2023-07-08T00:50:55.812613Z",
          "start_time": "2023-07-08T00:50:55.810817Z"
        },
        "id": "etXix-eAszwG"
      }
    },
    {
      "cell_type": "code",
      "execution_count": 3,
      "outputs": [],
      "source": [
        "import pandas as pd\n",
        "\n",
        "# df = pd.read_csv(DATA_FOLDER + '/processed/posts_and_comments.csv')\n",
        "df = pd.read_csv('tweets_assigned_topics.csv')"
      ],
      "metadata": {
        "ExecuteTime": {
          "end_time": "2023-07-08T00:50:55.941917Z",
          "start_time": "2023-07-08T00:50:55.815551Z"
        },
        "id": "z4nHCZ-7szwH"
      }
    },
    {
      "cell_type": "code",
      "execution_count": 4,
      "outputs": [],
      "source": [
        "# timestamps = df.date.to_list()\n",
        "# classes = df['query'].to_list()\n",
        "texts_list = df.content.to_list()"
      ],
      "metadata": {
        "ExecuteTime": {
          "end_time": "2023-07-08T00:50:55.943070Z",
          "start_time": "2023-07-08T00:50:55.940658Z"
        },
        "id": "56WA03LxszwH"
      }
    },
    {
      "cell_type": "code",
      "execution_count": 5,
      "metadata": {
        "collapsed": true,
        "ExecuteTime": {
          "end_time": "2023-07-08T00:51:00.736897Z",
          "start_time": "2023-07-08T00:50:55.943008Z"
        },
        "colab": {
          "base_uri": "https://localhost:8080/"
        },
        "id": "NfpWKfIeszwH",
        "outputId": "ca05d2f9-7d41-4c32-ffe7-1c126f6bc157"
      },
      "outputs": [
        {
          "output_type": "stream",
          "name": "stderr",
          "text": [
            "Some weights of the model checkpoint at j-hartmann/sentiment-roberta-large-english-3-classes were not used when initializing RobertaForSequenceClassification: ['roberta.pooler.dense.bias', 'roberta.pooler.dense.weight']\n",
            "- This IS expected if you are initializing RobertaForSequenceClassification from the checkpoint of a model trained on another task or with another architecture (e.g. initializing a BertForSequenceClassification model from a BertForPreTraining model).\n",
            "- This IS NOT expected if you are initializing RobertaForSequenceClassification from the checkpoint of a model that you expect to be exactly identical (initializing a BertForSequenceClassification model from a BertForSequenceClassification model).\n",
            "Xformers is not installed correctly. If you want to use memory_efficient_attention to accelerate training use the following command to install Xformers\n",
            "pip install xformers.\n"
          ]
        }
      ],
      "source": [
        "from transformers import pipeline\n",
        "\n",
        "sentiment_analysis = pipeline(\"text-classification\", model=\"j-hartmann/sentiment-roberta-large-english-3-classes\",\n",
        "                              return_all_scores=True)"
      ]
    },
    {
      "cell_type": "code",
      "execution_count": 6,
      "outputs": [],
      "source": [
        "import numpy as np\n",
        "import re\n",
        "\n",
        "\n",
        "def find_string_sentiment(text, query):\n",
        "    len_text = len(text)\n",
        "\n",
        "    # index = text.lower().find(query)\n",
        "    indices = [match.start() for match in re.finditer(query, text.lower())]\n",
        "\n",
        "    sents = np.empty((len(indices), 3))\n",
        "\n",
        "    for i, index in enumerate(indices):\n",
        "\n",
        "        if (index - 256) < 0:\n",
        "            start_idx = 0\n",
        "        else:\n",
        "            start_idx = (index - 256)\n",
        "\n",
        "        if (index + 256) > len_text:\n",
        "            end_idx = len_text\n",
        "        else:\n",
        "            end_idx = (index + 256)\n",
        "\n",
        "        sentiment_i = sentiment_analysis(text[start_idx:end_idx])\n",
        "        # print(sentiment_i[0][0])\n",
        "        sents[i, :] = sentiment_i[0][0]['score'], sentiment_i[0][1]['score'], sentiment_i[0][2]['score']\n",
        "\n",
        "    return np.mean(sents, axis=0)\n"
      ],
      "metadata": {
        "ExecuteTime": {
          "end_time": "2023-07-08T00:51:00.745620Z",
          "start_time": "2023-07-08T00:51:00.738800Z"
        },
        "id": "3Mc5sLlFszwI"
      }
    },
    {
      "cell_type": "code",
      "execution_count": 7,
      "outputs": [
        {
          "output_type": "display_data",
          "data": {
            "text/plain": [
              "  0%|          | 0/1223 [00:00<?, ?it/s]"
            ],
            "application/vnd.jupyter.widget-view+json": {
              "version_major": 2,
              "version_minor": 0,
              "model_id": "055e09215ca1451db6df9ea7a39642e3"
            }
          },
          "metadata": {}
        },
        {
          "output_type": "stream",
          "name": "stdout",
          "text": []
        }
      ],
      "source": [
        "import pandas as pd\n",
        "\n",
        "from tqdm.auto import tqdm\n",
        "\n",
        "sentiments = pd.DataFrame(columns=['negative', 'neutral', 'positive'])\n",
        "\n",
        "for i, text in tqdm(enumerate(texts_list), total=len(texts_list)):\n",
        "    try:\n",
        "        sentiments.loc[i, :] = find_string_sentiment(text, df.iloc[i]['query'])\n",
        "        print(i, end=\"\\r\")\n",
        "    except:\n",
        "        continue"
      ],
      "metadata": {
        "ExecuteTime": {
          "end_time": "2023-07-08T02:33:23.914077Z",
          "start_time": "2023-07-08T00:51:00.742916Z"
        },
        "colab": {
          "base_uri": "https://localhost:8080/",
          "height": 49,
          "referenced_widgets": [
            "055e09215ca1451db6df9ea7a39642e3",
            "f47914a29f014703b8fd45bede3f46c1",
            "7b8a6d82f9dc443eac6951a458d02daa",
            "971e038d36c74aecb533c95b5b28ed4f",
            "594e27c74117459a8d7229a5aa248543",
            "c8a1b19d181547faa0c3b7158b635154",
            "4568be6c1bf240da9894f00efadd6724",
            "3e58ce74449f4305827d2615a2dc9cf6",
            "edb847d1be2b4d9ab61afaf58dd4f363",
            "55acd8e168b746a78707090b92a2e9bf",
            "463159f9700f4bc38300c76daeca82ff"
          ]
        },
        "id": "rIa8Kf7qszwI",
        "outputId": "45943f91-0dc4-413e-a5fc-84a33da6673d"
      }
    },
    {
      "cell_type": "code",
      "execution_count": 8,
      "outputs": [],
      "source": [
        "sentiment_map = {0: 'negative', 1: 'neutral', 2: 'positive'}\n",
        "sentiments['net'] = np.argmax(np.array(sentiments.loc[:, ['negative', 'neutral', 'positive']]), axis=1)\n",
        "# sentiments['net'] = sentiments['net'].apply(lambda x : sentiment_map[x])"
      ],
      "metadata": {
        "ExecuteTime": {
          "end_time": "2023-07-08T02:33:23.920362Z",
          "start_time": "2023-07-08T02:33:23.915900Z"
        },
        "id": "PBI_JjrWszwI"
      }
    },
    {
      "cell_type": "code",
      "execution_count": 9,
      "outputs": [],
      "source": [
        "sentiments.index = df.index\n",
        "# sentiments = df.join(sentiments)\n",
        "# sentiments = pd.read_csv('sentiments.csv')\n",
        "# sentiments.to_csv(DATA_FOLDER + 'processed/sentiments.csv')"
      ],
      "metadata": {
        "ExecuteTime": {
          "end_time": "2023-07-08T02:33:23.993824Z",
          "start_time": "2023-07-08T02:33:23.920880Z"
        },
        "id": "A0P5TMtYszwI"
      }
    },
    {
      "cell_type": "code",
      "execution_count": 10,
      "outputs": [],
      "source": [
        "sentiments['net_t'] = sentiments['net'] - 1"
      ],
      "metadata": {
        "ExecuteTime": {
          "end_time": "2023-07-08T12:26:49.348435Z",
          "start_time": "2023-07-08T12:26:49.322152Z"
        },
        "id": "xdBXFe9zszwI"
      }
    },
    {
      "cell_type": "code",
      "execution_count": 11,
      "outputs": [],
      "source": [
        "# df_topics = pd.read_csv(DATA_FOLDER + '/processed/assigned_topics.csv')"
      ],
      "metadata": {
        "ExecuteTime": {
          "end_time": "2023-07-08T12:26:50.196258Z",
          "start_time": "2023-07-08T12:26:50.192996Z"
        },
        "id": "WD7tsS2xszwJ"
      }
    },
    {
      "cell_type": "code",
      "execution_count": 12,
      "outputs": [],
      "source": [
        "sentiments['topic'] = df['Topic']"
      ],
      "metadata": {
        "ExecuteTime": {
          "end_time": "2023-07-08T12:26:50.803716Z",
          "start_time": "2023-07-08T12:26:50.795162Z"
        },
        "id": "edhxpGcUszwJ"
      }
    },
    {
      "cell_type": "code",
      "execution_count": 13,
      "outputs": [],
      "source": [
        "sentiments = df.merge(sentiments, left_index=True, right_index=True)"
      ],
      "metadata": {
        "ExecuteTime": {
          "end_time": "2023-07-08T12:26:51.966819Z",
          "start_time": "2023-07-08T12:26:51.856377Z"
        },
        "id": "BtoOwsu4szwJ"
      }
    },
    {
      "cell_type": "code",
      "execution_count": 14,
      "outputs": [],
      "source": [
        "sentiments.to_csv('tweets_sentiments.csv')"
      ],
      "metadata": {
        "ExecuteTime": {
          "end_time": "2023-07-08T12:26:54.204931Z",
          "start_time": "2023-07-08T12:26:53.993069Z"
        },
        "id": "TK5ldv-uszwJ"
      }
    },
    {
      "cell_type": "code",
      "execution_count": 14,
      "outputs": [],
      "source": [],
      "metadata": {
        "id": "B0XrrkZYszwJ"
      }
    }
  ],
  "metadata": {
    "kernelspec": {
      "display_name": "Python 3",
      "name": "python3"
    },
    "language_info": {
      "codemirror_mode": {
        "name": "ipython",
        "version": 2
      },
      "file_extension": ".py",
      "mimetype": "text/x-python",
      "name": "python",
      "nbconvert_exporter": "python",
      "pygments_lexer": "ipython2",
      "version": "2.7.6"
    },
    "colab": {
      "provenance": [],
      "gpuType": "T4"
    },
    "accelerator": "GPU",
    "widgets": {
      "application/vnd.jupyter.widget-state+json": {
        "055e09215ca1451db6df9ea7a39642e3": {
          "model_module": "@jupyter-widgets/controls",
          "model_name": "HBoxModel",
          "model_module_version": "1.5.0",
          "state": {
            "_dom_classes": [],
            "_model_module": "@jupyter-widgets/controls",
            "_model_module_version": "1.5.0",
            "_model_name": "HBoxModel",
            "_view_count": null,
            "_view_module": "@jupyter-widgets/controls",
            "_view_module_version": "1.5.0",
            "_view_name": "HBoxView",
            "box_style": "",
            "children": [
              "IPY_MODEL_f47914a29f014703b8fd45bede3f46c1",
              "IPY_MODEL_7b8a6d82f9dc443eac6951a458d02daa",
              "IPY_MODEL_971e038d36c74aecb533c95b5b28ed4f"
            ],
            "layout": "IPY_MODEL_594e27c74117459a8d7229a5aa248543"
          }
        },
        "f47914a29f014703b8fd45bede3f46c1": {
          "model_module": "@jupyter-widgets/controls",
          "model_name": "HTMLModel",
          "model_module_version": "1.5.0",
          "state": {
            "_dom_classes": [],
            "_model_module": "@jupyter-widgets/controls",
            "_model_module_version": "1.5.0",
            "_model_name": "HTMLModel",
            "_view_count": null,
            "_view_module": "@jupyter-widgets/controls",
            "_view_module_version": "1.5.0",
            "_view_name": "HTMLView",
            "description": "",
            "description_tooltip": null,
            "layout": "IPY_MODEL_c8a1b19d181547faa0c3b7158b635154",
            "placeholder": "​",
            "style": "IPY_MODEL_4568be6c1bf240da9894f00efadd6724",
            "value": "100%"
          }
        },
        "7b8a6d82f9dc443eac6951a458d02daa": {
          "model_module": "@jupyter-widgets/controls",
          "model_name": "FloatProgressModel",
          "model_module_version": "1.5.0",
          "state": {
            "_dom_classes": [],
            "_model_module": "@jupyter-widgets/controls",
            "_model_module_version": "1.5.0",
            "_model_name": "FloatProgressModel",
            "_view_count": null,
            "_view_module": "@jupyter-widgets/controls",
            "_view_module_version": "1.5.0",
            "_view_name": "ProgressView",
            "bar_style": "success",
            "description": "",
            "description_tooltip": null,
            "layout": "IPY_MODEL_3e58ce74449f4305827d2615a2dc9cf6",
            "max": 1223,
            "min": 0,
            "orientation": "horizontal",
            "style": "IPY_MODEL_edb847d1be2b4d9ab61afaf58dd4f363",
            "value": 1223
          }
        },
        "971e038d36c74aecb533c95b5b28ed4f": {
          "model_module": "@jupyter-widgets/controls",
          "model_name": "HTMLModel",
          "model_module_version": "1.5.0",
          "state": {
            "_dom_classes": [],
            "_model_module": "@jupyter-widgets/controls",
            "_model_module_version": "1.5.0",
            "_model_name": "HTMLModel",
            "_view_count": null,
            "_view_module": "@jupyter-widgets/controls",
            "_view_module_version": "1.5.0",
            "_view_name": "HTMLView",
            "description": "",
            "description_tooltip": null,
            "layout": "IPY_MODEL_55acd8e168b746a78707090b92a2e9bf",
            "placeholder": "​",
            "style": "IPY_MODEL_463159f9700f4bc38300c76daeca82ff",
            "value": " 1223/1223 [08:42&lt;00:00,  2.83it/s]"
          }
        },
        "594e27c74117459a8d7229a5aa248543": {
          "model_module": "@jupyter-widgets/base",
          "model_name": "LayoutModel",
          "model_module_version": "1.2.0",
          "state": {
            "_model_module": "@jupyter-widgets/base",
            "_model_module_version": "1.2.0",
            "_model_name": "LayoutModel",
            "_view_count": null,
            "_view_module": "@jupyter-widgets/base",
            "_view_module_version": "1.2.0",
            "_view_name": "LayoutView",
            "align_content": null,
            "align_items": null,
            "align_self": null,
            "border": null,
            "bottom": null,
            "display": null,
            "flex": null,
            "flex_flow": null,
            "grid_area": null,
            "grid_auto_columns": null,
            "grid_auto_flow": null,
            "grid_auto_rows": null,
            "grid_column": null,
            "grid_gap": null,
            "grid_row": null,
            "grid_template_areas": null,
            "grid_template_columns": null,
            "grid_template_rows": null,
            "height": null,
            "justify_content": null,
            "justify_items": null,
            "left": null,
            "margin": null,
            "max_height": null,
            "max_width": null,
            "min_height": null,
            "min_width": null,
            "object_fit": null,
            "object_position": null,
            "order": null,
            "overflow": null,
            "overflow_x": null,
            "overflow_y": null,
            "padding": null,
            "right": null,
            "top": null,
            "visibility": null,
            "width": null
          }
        },
        "c8a1b19d181547faa0c3b7158b635154": {
          "model_module": "@jupyter-widgets/base",
          "model_name": "LayoutModel",
          "model_module_version": "1.2.0",
          "state": {
            "_model_module": "@jupyter-widgets/base",
            "_model_module_version": "1.2.0",
            "_model_name": "LayoutModel",
            "_view_count": null,
            "_view_module": "@jupyter-widgets/base",
            "_view_module_version": "1.2.0",
            "_view_name": "LayoutView",
            "align_content": null,
            "align_items": null,
            "align_self": null,
            "border": null,
            "bottom": null,
            "display": null,
            "flex": null,
            "flex_flow": null,
            "grid_area": null,
            "grid_auto_columns": null,
            "grid_auto_flow": null,
            "grid_auto_rows": null,
            "grid_column": null,
            "grid_gap": null,
            "grid_row": null,
            "grid_template_areas": null,
            "grid_template_columns": null,
            "grid_template_rows": null,
            "height": null,
            "justify_content": null,
            "justify_items": null,
            "left": null,
            "margin": null,
            "max_height": null,
            "max_width": null,
            "min_height": null,
            "min_width": null,
            "object_fit": null,
            "object_position": null,
            "order": null,
            "overflow": null,
            "overflow_x": null,
            "overflow_y": null,
            "padding": null,
            "right": null,
            "top": null,
            "visibility": null,
            "width": null
          }
        },
        "4568be6c1bf240da9894f00efadd6724": {
          "model_module": "@jupyter-widgets/controls",
          "model_name": "DescriptionStyleModel",
          "model_module_version": "1.5.0",
          "state": {
            "_model_module": "@jupyter-widgets/controls",
            "_model_module_version": "1.5.0",
            "_model_name": "DescriptionStyleModel",
            "_view_count": null,
            "_view_module": "@jupyter-widgets/base",
            "_view_module_version": "1.2.0",
            "_view_name": "StyleView",
            "description_width": ""
          }
        },
        "3e58ce74449f4305827d2615a2dc9cf6": {
          "model_module": "@jupyter-widgets/base",
          "model_name": "LayoutModel",
          "model_module_version": "1.2.0",
          "state": {
            "_model_module": "@jupyter-widgets/base",
            "_model_module_version": "1.2.0",
            "_model_name": "LayoutModel",
            "_view_count": null,
            "_view_module": "@jupyter-widgets/base",
            "_view_module_version": "1.2.0",
            "_view_name": "LayoutView",
            "align_content": null,
            "align_items": null,
            "align_self": null,
            "border": null,
            "bottom": null,
            "display": null,
            "flex": null,
            "flex_flow": null,
            "grid_area": null,
            "grid_auto_columns": null,
            "grid_auto_flow": null,
            "grid_auto_rows": null,
            "grid_column": null,
            "grid_gap": null,
            "grid_row": null,
            "grid_template_areas": null,
            "grid_template_columns": null,
            "grid_template_rows": null,
            "height": null,
            "justify_content": null,
            "justify_items": null,
            "left": null,
            "margin": null,
            "max_height": null,
            "max_width": null,
            "min_height": null,
            "min_width": null,
            "object_fit": null,
            "object_position": null,
            "order": null,
            "overflow": null,
            "overflow_x": null,
            "overflow_y": null,
            "padding": null,
            "right": null,
            "top": null,
            "visibility": null,
            "width": null
          }
        },
        "edb847d1be2b4d9ab61afaf58dd4f363": {
          "model_module": "@jupyter-widgets/controls",
          "model_name": "ProgressStyleModel",
          "model_module_version": "1.5.0",
          "state": {
            "_model_module": "@jupyter-widgets/controls",
            "_model_module_version": "1.5.0",
            "_model_name": "ProgressStyleModel",
            "_view_count": null,
            "_view_module": "@jupyter-widgets/base",
            "_view_module_version": "1.2.0",
            "_view_name": "StyleView",
            "bar_color": null,
            "description_width": ""
          }
        },
        "55acd8e168b746a78707090b92a2e9bf": {
          "model_module": "@jupyter-widgets/base",
          "model_name": "LayoutModel",
          "model_module_version": "1.2.0",
          "state": {
            "_model_module": "@jupyter-widgets/base",
            "_model_module_version": "1.2.0",
            "_model_name": "LayoutModel",
            "_view_count": null,
            "_view_module": "@jupyter-widgets/base",
            "_view_module_version": "1.2.0",
            "_view_name": "LayoutView",
            "align_content": null,
            "align_items": null,
            "align_self": null,
            "border": null,
            "bottom": null,
            "display": null,
            "flex": null,
            "flex_flow": null,
            "grid_area": null,
            "grid_auto_columns": null,
            "grid_auto_flow": null,
            "grid_auto_rows": null,
            "grid_column": null,
            "grid_gap": null,
            "grid_row": null,
            "grid_template_areas": null,
            "grid_template_columns": null,
            "grid_template_rows": null,
            "height": null,
            "justify_content": null,
            "justify_items": null,
            "left": null,
            "margin": null,
            "max_height": null,
            "max_width": null,
            "min_height": null,
            "min_width": null,
            "object_fit": null,
            "object_position": null,
            "order": null,
            "overflow": null,
            "overflow_x": null,
            "overflow_y": null,
            "padding": null,
            "right": null,
            "top": null,
            "visibility": null,
            "width": null
          }
        },
        "463159f9700f4bc38300c76daeca82ff": {
          "model_module": "@jupyter-widgets/controls",
          "model_name": "DescriptionStyleModel",
          "model_module_version": "1.5.0",
          "state": {
            "_model_module": "@jupyter-widgets/controls",
            "_model_module_version": "1.5.0",
            "_model_name": "DescriptionStyleModel",
            "_view_count": null,
            "_view_module": "@jupyter-widgets/base",
            "_view_module_version": "1.2.0",
            "_view_name": "StyleView",
            "description_width": ""
          }
        }
      }
    }
  },
  "nbformat": 4,
  "nbformat_minor": 0
}