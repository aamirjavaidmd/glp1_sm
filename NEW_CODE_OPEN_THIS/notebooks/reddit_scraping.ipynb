{
 "cells": [
  {
   "cell_type": "markdown",
   "id": "2bcb6575-f21e-4e83-9407-97f920b0d75b",
   "metadata": {},
   "source": [
    "# Data Scraper"
   ]
  },
  {
   "cell_type": "code",
   "execution_count": 1,
   "id": "af605713",
   "metadata": {
    "ExecuteTime": {
     "end_time": "2023-08-13T17:15:38.946173Z",
     "start_time": "2023-08-13T17:15:38.943641Z"
    }
   },
   "outputs": [],
   "source": [
    "import warnings\n",
    "warnings.filterwarnings('ignore')"
   ]
  },
  {
   "cell_type": "code",
   "execution_count": 2,
   "id": "c02c346c-fde0-48c0-be2f-5832511d7101",
   "metadata": {
    "ExecuteTime": {
     "end_time": "2023-08-13T17:15:39.040689Z",
     "start_time": "2023-08-13T17:15:38.945775Z"
    }
   },
   "outputs": [],
   "source": [
    "import pandas as pd\n",
    "import praw\n",
    "import json\n",
    "import re"
   ]
  },
  {
   "cell_type": "code",
   "execution_count": 3,
   "id": "87d40bd2-3b95-4354-8aa4-df365b13eac2",
   "metadata": {
    "ExecuteTime": {
     "end_time": "2023-08-13T17:15:39.045688Z",
     "start_time": "2023-08-13T17:15:39.040925Z"
    }
   },
   "outputs": [],
   "source": [
    "from datetime import datetime as dt"
   ]
  },
  {
   "cell_type": "code",
   "execution_count": 4,
   "id": "5829ec18-1cdb-4436-9702-65cff702ef0a",
   "metadata": {
    "ExecuteTime": {
     "end_time": "2023-08-13T17:15:39.045887Z",
     "start_time": "2023-08-13T17:15:39.043274Z"
    }
   },
   "outputs": [],
   "source": [
    "import seaborn as sns\n",
    "# import matplotlib.pyplot as plt\n",
    "\n",
    "sns.set_style('whitegrid')\n",
    "sns.set_context('talk')"
   ]
  },
  {
   "cell_type": "code",
   "execution_count": 5,
   "id": "48ff46ee-4c2e-4425-9c39-f8ecba6ce8b7",
   "metadata": {
    "ExecuteTime": {
     "end_time": "2023-08-13T17:15:39.047131Z",
     "start_time": "2023-08-13T17:15:39.045236Z"
    }
   },
   "outputs": [],
   "source": [
    "DATA_FOLDER = '../data/'\n",
    "FIGURE_FOLDER = '../reports/figures'\n",
    "API_LOGIN_FN = '../data/config/reddit_auth.json'"
   ]
  },
  {
   "cell_type": "code",
   "execution_count": 6,
   "id": "bbe7aedb-fcda-46f4-9c8c-66436a6e982d",
   "metadata": {
    "ExecuteTime": {
     "end_time": "2023-08-13T17:15:39.050476Z",
     "start_time": "2023-08-13T17:15:39.048583Z"
    }
   },
   "outputs": [],
   "source": [
    "date_time = {\n",
    "    'start' : {\n",
    "        'year' : 2013,\n",
    "        'month' : 6,\n",
    "        'day' : 1\n",
    "    },\n",
    "    \n",
    "    'end' : {\n",
    "        'year' : 2023,\n",
    "        'month' : 6,\n",
    "        'day' : 1\n",
    "    }\n",
    "}\n",
    "\n",
    "start_time = int(dt(date_time['start']['year'], date_time['start']['month'], date_time['start']['day']).timestamp())\n",
    "end_time = int(dt(date_time['end']['year'], date_time['end']['month'], date_time['end']['day']).timestamp())"
   ]
  },
  {
   "cell_type": "code",
   "execution_count": 7,
   "id": "ba6693ed-dc67-4e9d-abd8-5ddeca8f6854",
   "metadata": {
    "ExecuteTime": {
     "end_time": "2023-08-13T17:15:39.054225Z",
     "start_time": "2023-08-13T17:15:39.051119Z"
    }
   },
   "outputs": [],
   "source": [
    "with open(API_LOGIN_FN, 'r') as f:\n",
    "    login_info = json.load(f)\n",
    "    \n",
    "# Check to ensure that login_info contains the necessary information.\n",
    "assert('client_id' in login_info.keys())\n",
    "assert('client_secret' in login_info.keys())\n",
    "assert('user_agent' in login_info.keys())\n",
    "assert('username' in login_info.keys())\n",
    "assert('password' in login_info.keys())"
   ]
  },
  {
   "cell_type": "code",
   "execution_count": 8,
   "id": "c9dcaa21-f1b1-48a3-98f4-c56e24067a06",
   "metadata": {
    "ExecuteTime": {
     "end_time": "2023-08-13T17:15:39.307954Z",
     "start_time": "2023-08-13T17:15:39.054060Z"
    }
   },
   "outputs": [
    {
     "name": "stderr",
     "output_type": "stream",
     "text": [
      "Version 7.7.0 of praw is outdated. Version 7.7.1 was released Tuesday July 11, 2023.\n"
     ]
    }
   ],
   "source": [
    "reddit = praw.Reddit(**login_info, ratelimit_seconds=60)"
   ]
  },
  {
   "cell_type": "code",
   "execution_count": 9,
   "id": "e9aee574",
   "metadata": {
    "ExecuteTime": {
     "end_time": "2023-08-13T17:15:39.309394Z",
     "start_time": "2023-08-13T17:15:39.307277Z"
    }
   },
   "outputs": [],
   "source": [
    "reddit.read_only = True"
   ]
  },
  {
   "cell_type": "code",
   "execution_count": 10,
   "id": "e94c059b",
   "metadata": {
    "ExecuteTime": {
     "end_time": "2023-08-13T17:15:39.314558Z",
     "start_time": "2023-08-13T17:15:39.312291Z"
    }
   },
   "outputs": [
    {
     "name": "stdout",
     "output_type": "stream",
     "text": [
      "None\n"
     ]
    }
   ],
   "source": [
    "print(reddit.user.me())"
   ]
  },
  {
   "cell_type": "code",
   "execution_count": 11,
   "id": "036d4c8d",
   "metadata": {
    "ExecuteTime": {
     "end_time": "2023-08-13T17:15:47.452267Z",
     "start_time": "2023-08-13T17:15:39.316247Z"
    }
   },
   "outputs": [],
   "source": [
    "# Define a list of queries\n",
    "queries = ['semaglutide' ,'ozempic', 'wegovy', 'rybelsus', 'liraglutide',\n",
    "           'saxenda', 'dulaglutide', 'trulicity', 'tirzepatide', 'mounjaro',\n",
    "           'victoza', 'bydureon', 'byetta', 'GLP-1RA','GLP-1', 'GLP1', 'GLP1RA', \n",
    "           'exenatide', 'bydureon bcise', 'orforglipron',\n",
    "          'lixisenatide', 'adlyxin', 'retatrutide', 'ly3437943']\n",
    "# queries = queries.sort()\n",
    "# queries = ['ozempic']\n",
    "\n",
    "num_subreddits = 0\n",
    "subreddits_by_query = {}\n",
    "# subscribers_threshold = 1000000\n",
    "subscribers_threshold = 0\n",
    "\n",
    "for query in queries:\n",
    "    subreddits = reddit.subreddits.search(query)\n",
    "    filtered_subreddits = []\n",
    "    for subreddit in subreddits:\n",
    "#         print(subreddit.submission_count)\n",
    "        if subreddit.subscribers is None:\n",
    "            continue\n",
    "        elif subreddit.subscribers > subscribers_threshold:\n",
    "            num_subreddits += 1\n",
    "            filtered_subreddits.append(subreddit)\n",
    "    subreddits_by_query[query] = filtered_subreddits\n",
    "#     print(query, \": \", len(filtered_subreddits))\n",
    "#     print(len(filtered_subreddits))"
   ]
  },
  {
   "cell_type": "code",
   "execution_count": 12,
   "id": "a28b9c79",
   "metadata": {
    "ExecuteTime": {
     "end_time": "2023-08-13T17:15:47.456267Z",
     "start_time": "2023-08-13T17:15:47.450959Z"
    }
   },
   "outputs": [],
   "source": [
    "# print(len(queries))"
   ]
  },
  {
   "cell_type": "code",
   "execution_count": 13,
   "id": "952a3201",
   "metadata": {
    "ExecuteTime": {
     "end_time": "2023-08-13T17:15:47.459564Z",
     "start_time": "2023-08-13T17:15:47.456741Z"
    }
   },
   "outputs": [],
   "source": [
    "# subreddits_by_query"
   ]
  },
  {
   "cell_type": "code",
   "execution_count": 14,
   "id": "a8f5e648",
   "metadata": {
    "ExecuteTime": {
     "end_time": "2023-08-13T17:15:47.466480Z",
     "start_time": "2023-08-13T17:15:47.460081Z"
    }
   },
   "outputs": [],
   "source": [
    "import csv\n",
    "with open(DATA_FOLDER +  'subreddits_by_query.csv', 'w') as csv_file:  \n",
    "    writer = csv.writer(csv_file)\n",
    "    for key, value in subreddits_by_query.items():\n",
    "       writer.writerow([key, value])"
   ]
  },
  {
   "cell_type": "code",
   "execution_count": 15,
   "id": "44888bed",
   "metadata": {
    "ExecuteTime": {
     "end_time": "2023-08-13T17:15:47.469926Z",
     "start_time": "2023-08-13T17:15:47.467117Z"
    }
   },
   "outputs": [],
   "source": [
    "final_subreddits = set()"
   ]
  },
  {
   "cell_type": "code",
   "execution_count": 16,
   "id": "cdeac3e7",
   "metadata": {
    "ExecuteTime": {
     "end_time": "2023-08-13T17:15:47.473542Z",
     "start_time": "2023-08-13T17:15:47.471246Z"
    }
   },
   "outputs": [],
   "source": [
    "for key, value in subreddits_by_query.items():\n",
    "#     print(len(value))\n",
    "#     if len(value) < 10:\n",
    "#         continue\n",
    "#     print(value)\n",
    "    final_subreddits.update(value)"
   ]
  },
  {
   "cell_type": "code",
   "execution_count": 17,
   "id": "5da6e40f",
   "metadata": {
    "ExecuteTime": {
     "end_time": "2023-08-13T17:15:47.475757Z",
     "start_time": "2023-08-13T17:15:47.474011Z"
    }
   },
   "outputs": [],
   "source": [
    "# final_subreddits"
   ]
  },
  {
   "cell_type": "code",
   "execution_count": 18,
   "id": "e2feaec9",
   "metadata": {
    "ExecuteTime": {
     "end_time": "2023-08-13T17:15:47.483668Z",
     "start_time": "2023-08-13T17:15:47.476762Z"
    }
   },
   "outputs": [],
   "source": [
    "# len(final_subreddits)"
   ]
  },
  {
   "cell_type": "code",
   "execution_count": 19,
   "id": "31394d8e-5e00-4ba9-9b22-a2af46f8ef2b",
   "metadata": {
    "ExecuteTime": {
     "end_time": "2023-08-13T17:15:47.483991Z",
     "start_time": "2023-08-13T17:15:47.480492Z"
    }
   },
   "outputs": [],
   "source": [
    "POST_DF_MAPPING = {\n",
    "    'id' : 'id',\n",
    "    'author' : 'author',\n",
    "    'title' : 'title',\n",
    "    'date' : 'created_utc',\n",
    "    'body' : 'selftext',\n",
    "    'n_comments' : 'num_comments',\n",
    "    'upvotes' : 'score',\n",
    "}\n",
    "\n",
    "COMM_DF_MAPPING = {\n",
    "    'id' : 'id',\n",
    "    'author' : 'author',\n",
    "    'title' : 'title',\n",
    "    'body' : 'body',\n",
    "    'date' : 'created_utc',\n",
    "    'link_id' : 'link_id',\n",
    "    'parent_id' : 'parent_id',\n",
    "    'upvotes' : 'score'\n",
    "}\n",
    "\n",
    "PSAW_MAPPINGS = {\n",
    "    'post' : POST_DF_MAPPING,\n",
    "    'comment' : COMM_DF_MAPPING\n",
    "}"
   ]
  },
  {
   "cell_type": "code",
   "execution_count": 20,
   "id": "0c95a730-fa80-4c2d-83a2-e9a020282c39",
   "metadata": {
    "ExecuteTime": {
     "end_time": "2023-08-13T17:15:47.491441Z",
     "start_time": "2023-08-13T17:15:47.483845Z"
    }
   },
   "outputs": [],
   "source": [
    "def api_result_conversion(res, type_of_res):\n",
    "    \"\"\"\n",
    "    Convert the API result from PSAW into a pandas Series.    \n",
    "    \"\"\"\n",
    "    \n",
    "    mapping = PSAW_MAPPINGS[type_of_res]\n",
    "    \n",
    "    out = []\n",
    "    \n",
    "    for col, col_map in mapping.items():\n",
    "        try:\n",
    "            out.append(getattr(res, col_map))\n",
    "        except:\n",
    "            out.append('')\n",
    "        \n",
    "    return out"
   ]
  },
  {
   "cell_type": "code",
   "execution_count": 21,
   "id": "eb802958-4daf-476a-9b69-ee7f2c6f6cb7",
   "metadata": {
    "ExecuteTime": {
     "end_time": "2023-08-13T17:15:47.491651Z",
     "start_time": "2023-08-13T17:15:47.488106Z"
    }
   },
   "outputs": [],
   "source": [
    "def scrape_reddit_posts(subreddits, search_words, save_name):\n",
    "    \"\"\"Scrapes Reddit for posts matching a set of search words in a set of subreddits.\n",
    "    \"\"\"\n",
    "\n",
    "    posts = []\n",
    "    cols = ['subreddit', 'query']\n",
    "    cols.extend(POST_DF_MAPPING.keys())\n",
    "\n",
    "    for subreddit in subreddits:\n",
    "        for search_word in search_words:\n",
    "            print(\"Now searching r/{0} for {1}\".format(subreddit, search_word))\n",
    "\n",
    "            for post in subreddit.search(search_word, limit=None):\n",
    "\n",
    "                if start_time <= post.created_utc <= end_time:\n",
    "                    # print(comment.body)\n",
    "                    post_ext = [subreddit, search_word]\n",
    "                    post_ext.extend(api_result_conversion(post, 'post'))\n",
    "                    posts.append(post_ext)\n",
    "\n",
    "            print(\"Completed search. Total {0} entries!\".format(len(posts)))\n",
    "                             \n",
    "    post_df = pd.DataFrame(posts, columns=cols)\n",
    "    post_df.set_index('id')\n",
    "\n",
    "    post_df.to_csv(DATA_FOLDER + save_name)\n",
    "    \n",
    "    return post_df"
   ]
  },
  {
   "cell_type": "code",
   "execution_count": 22,
   "id": "ebe52e62",
   "metadata": {
    "ExecuteTime": {
     "end_time": "2023-08-13T17:15:47.493386Z",
     "start_time": "2023-08-13T17:15:47.490786Z"
    }
   },
   "outputs": [],
   "source": [
    "# list(subreddits_by_query.values())[0]"
   ]
  },
  {
   "cell_type": "code",
   "execution_count": 23,
   "id": "68c3d6a7-2a61-4188-8fb5-9e6c31509fe1",
   "metadata": {
    "scrolled": true,
    "tags": [],
    "ExecuteTime": {
     "end_time": "2023-08-13T17:15:47.495306Z",
     "start_time": "2023-08-13T17:15:47.493685Z"
    }
   },
   "outputs": [],
   "source": [
    "# import time\n",
    "\n",
    "# start_time = time.time()\n",
    "\n",
    "# posts = scrape_reddit_posts(final_subreddits, subreddits_by_query.keys(), 'raw/posts.csv')\n",
    "\n",
    "# end_time = time.time()\n",
    "# elapsed_time = end_time - start_time\n",
    "\n",
    "# print(elapsed_time)"
   ]
  },
  {
   "cell_type": "code",
   "execution_count": 24,
   "id": "33fcd1ae",
   "metadata": {
    "ExecuteTime": {
     "end_time": "2023-08-13T17:15:47.500598Z",
     "start_time": "2023-08-13T17:15:47.498891Z"
    }
   },
   "outputs": [],
   "source": [
    "def scrape_reddit_comments_in_post(posts, save_name):\n",
    "    \"\"\"Scrapes Reddit for posts matching a set of search words in a set of subreddits.\n",
    "    \"\"\"\n",
    "    \n",
    "#     import time\n",
    "\n",
    "#     start_time = time.time()\n",
    "\n",
    "    cols = ['subreddit', 'query']\n",
    "    cols.extend(COMM_DF_MAPPING.keys())\n",
    "\n",
    "    comments = []\n",
    "    post_ids = posts.id\n",
    "    post_queries = posts['query']\n",
    "    post_subreddits = posts['subreddit']\n",
    "    idx = 0\n",
    "    for post_id in post_ids:\n",
    "        # print(\"Now searching post <{0}>\".format(post_id))\n",
    "\n",
    "        submission = reddit.submission(post_id)\n",
    "        submission.comments.replace_more(limit=None)\n",
    "\n",
    "        for comment in submission.comments.list():\n",
    "            query_idx = comment.body.find(post_queries[idx])\n",
    "            if query_idx == -1:\n",
    "                continue\n",
    "            # print(comment.body)\n",
    "            comment_ext = [post_subreddits[idx], post_queries[idx]]\n",
    "            comment_row = api_result_conversion(comment, 'comment')\n",
    "            comment_ext.extend(comment_row)\n",
    "            comments.append(comment_ext)\n",
    "\n",
    "        # print(\"Completed search. Total {0} comments!\".format(len(comments)))\n",
    "        idx += 1\n",
    "        print(idx, end='\\r')\n",
    "\n",
    "    comm_df = pd.DataFrame(comments, columns=cols)\n",
    "    comm_df.set_index('id')\n",
    "\n",
    "    comm_df.to_csv(DATA_FOLDER + save_name)\n",
    "    \n",
    "#     end_time = time.time()\n",
    "#     elapsed_time = end_time - start_time\n",
    "\n",
    "#     print(elapsed_time)\n",
    "\n",
    "    return comm_df"
   ]
  },
  {
   "cell_type": "code",
   "execution_count": 41,
   "id": "2f7e8857",
   "metadata": {
    "ExecuteTime": {
     "end_time": "2023-08-13T17:23:40.250361Z",
     "start_time": "2023-08-13T17:23:40.142436Z"
    }
   },
   "outputs": [],
   "source": [
    "posts = pd.read_csv(DATA_FOLDER + 'raw/posts.csv')"
   ]
  },
  {
   "cell_type": "code",
   "execution_count": 42,
   "id": "01794701",
   "metadata": {
    "ExecuteTime": {
     "end_time": "2023-08-13T17:23:40.290191Z",
     "start_time": "2023-08-13T17:23:40.283054Z"
    }
   },
   "outputs": [
    {
     "data": {
      "text/plain": "(14391, 10)"
     },
     "execution_count": 42,
     "metadata": {},
     "output_type": "execute_result"
    }
   ],
   "source": [
    "posts.shape"
   ]
  },
  {
   "cell_type": "code",
   "execution_count": 43,
   "id": "c7174901",
   "metadata": {
    "ExecuteTime": {
     "end_time": "2023-08-13T17:23:40.472639Z",
     "start_time": "2023-08-13T17:23:40.467588Z"
    }
   },
   "outputs": [
    {
     "data": {
      "text/plain": "   Unnamed: 0 subreddit        query       id             author  \\\n0           0       trt  semaglutide  11n6wmk          Zellenial   \n1           1       trt  semaglutide  116ihmh            7856970   \n2           2       trt  semaglutide  10rz4pf            Bud1985   \n3           3       trt  semaglutide   wc4u7i  Hormonesforme-com   \n4           4       trt  semaglutide  13epai9       Hey_its_Jack   \n\n                                               title          date  \\\n0  Trt works if you work it.. started 1.5 years a...  1.678403e+09   \n1               Which TRT clinics offer semaglutide?  1.676827e+09   \n2                                        Semaglutide  1.675368e+09   \n3  Semaglutide is a revolutionary fat loss medica...  1.659208e+09   \n4  Doctors office changed criteria for 'normal le...  1.683816e+09   \n\n                                                body  n_comments  upvotes  \n0                                                NaN          77       24  \n1                                                NaN          13        1  \n2  Anyone in here have experience taking Semaglut...          17        4  \n3    \\n\\nSemaglutide is a revolutionary new weigh...           0        2  \n4  37y/o male, 250lbs\\n\\nA few months ago, I got ...          66       10  ",
      "text/html": "<div>\n<style scoped>\n    .dataframe tbody tr th:only-of-type {\n        vertical-align: middle;\n    }\n\n    .dataframe tbody tr th {\n        vertical-align: top;\n    }\n\n    .dataframe thead th {\n        text-align: right;\n    }\n</style>\n<table border=\"1\" class=\"dataframe\">\n  <thead>\n    <tr style=\"text-align: right;\">\n      <th></th>\n      <th>Unnamed: 0</th>\n      <th>subreddit</th>\n      <th>query</th>\n      <th>id</th>\n      <th>author</th>\n      <th>title</th>\n      <th>date</th>\n      <th>body</th>\n      <th>n_comments</th>\n      <th>upvotes</th>\n    </tr>\n  </thead>\n  <tbody>\n    <tr>\n      <th>0</th>\n      <td>0</td>\n      <td>trt</td>\n      <td>semaglutide</td>\n      <td>11n6wmk</td>\n      <td>Zellenial</td>\n      <td>Trt works if you work it.. started 1.5 years a...</td>\n      <td>1.678403e+09</td>\n      <td>NaN</td>\n      <td>77</td>\n      <td>24</td>\n    </tr>\n    <tr>\n      <th>1</th>\n      <td>1</td>\n      <td>trt</td>\n      <td>semaglutide</td>\n      <td>116ihmh</td>\n      <td>7856970</td>\n      <td>Which TRT clinics offer semaglutide?</td>\n      <td>1.676827e+09</td>\n      <td>NaN</td>\n      <td>13</td>\n      <td>1</td>\n    </tr>\n    <tr>\n      <th>2</th>\n      <td>2</td>\n      <td>trt</td>\n      <td>semaglutide</td>\n      <td>10rz4pf</td>\n      <td>Bud1985</td>\n      <td>Semaglutide</td>\n      <td>1.675368e+09</td>\n      <td>Anyone in here have experience taking Semaglut...</td>\n      <td>17</td>\n      <td>4</td>\n    </tr>\n    <tr>\n      <th>3</th>\n      <td>3</td>\n      <td>trt</td>\n      <td>semaglutide</td>\n      <td>wc4u7i</td>\n      <td>Hormonesforme-com</td>\n      <td>Semaglutide is a revolutionary fat loss medica...</td>\n      <td>1.659208e+09</td>\n      <td>\\n\\nSemaglutide is a revolutionary new weigh...</td>\n      <td>0</td>\n      <td>2</td>\n    </tr>\n    <tr>\n      <th>4</th>\n      <td>4</td>\n      <td>trt</td>\n      <td>semaglutide</td>\n      <td>13epai9</td>\n      <td>Hey_its_Jack</td>\n      <td>Doctors office changed criteria for 'normal le...</td>\n      <td>1.683816e+09</td>\n      <td>37y/o male, 250lbs\\n\\nA few months ago, I got ...</td>\n      <td>66</td>\n      <td>10</td>\n    </tr>\n  </tbody>\n</table>\n</div>"
     },
     "execution_count": 43,
     "metadata": {},
     "output_type": "execute_result"
    }
   ],
   "source": [
    "posts.head()"
   ]
  },
  {
   "cell_type": "code",
   "execution_count": 44,
   "id": "2a3d5c41",
   "metadata": {
    "ExecuteTime": {
     "end_time": "2023-08-13T17:29:59.049016Z",
     "start_time": "2023-08-13T17:23:40.603271Z"
    }
   },
   "outputs": [
    {
     "name": "stdout",
     "output_type": "stream",
     "text": [
      "570\r"
     ]
    },
    {
     "ename": "TooManyRequests",
     "evalue": "received 429 HTTP response",
     "output_type": "error",
     "traceback": [
      "\u001B[0;31m---------------------------------------------------------------------------\u001B[0m",
      "\u001B[0;31mTooManyRequests\u001B[0m                           Traceback (most recent call last)",
      "Cell \u001B[0;32mIn[44], line 3\u001B[0m\n\u001B[1;32m      1\u001B[0m \u001B[38;5;66;03m# start_time = time.time()\u001B[39;00m\n\u001B[0;32m----> 3\u001B[0m comments \u001B[38;5;241m=\u001B[39m \u001B[43mscrape_reddit_comments_in_post\u001B[49m\u001B[43m(\u001B[49m\u001B[43mposts\u001B[49m\u001B[43m,\u001B[49m\u001B[43m \u001B[49m\u001B[38;5;124;43m'\u001B[39;49m\u001B[38;5;124;43mraw/comments.csv\u001B[39;49m\u001B[38;5;124;43m'\u001B[39;49m\u001B[43m)\u001B[49m\n",
      "Cell \u001B[0;32mIn[24], line 21\u001B[0m, in \u001B[0;36mscrape_reddit_comments_in_post\u001B[0;34m(posts, save_name)\u001B[0m\n\u001B[1;32m     17\u001B[0m \u001B[38;5;28;01mfor\u001B[39;00m post_id \u001B[38;5;129;01min\u001B[39;00m post_ids:\n\u001B[1;32m     18\u001B[0m     \u001B[38;5;66;03m# print(\"Now searching post <{0}>\".format(post_id))\u001B[39;00m\n\u001B[1;32m     20\u001B[0m     submission \u001B[38;5;241m=\u001B[39m reddit\u001B[38;5;241m.\u001B[39msubmission(post_id)\n\u001B[0;32m---> 21\u001B[0m     \u001B[43msubmission\u001B[49m\u001B[38;5;241;43m.\u001B[39;49m\u001B[43mcomments\u001B[49m\u001B[38;5;241m.\u001B[39mreplace_more(limit\u001B[38;5;241m=\u001B[39m\u001B[38;5;28;01mNone\u001B[39;00m)\n\u001B[1;32m     23\u001B[0m     \u001B[38;5;28;01mfor\u001B[39;00m comment \u001B[38;5;129;01min\u001B[39;00m submission\u001B[38;5;241m.\u001B[39mcomments\u001B[38;5;241m.\u001B[39mlist():\n\u001B[1;32m     24\u001B[0m         query_idx \u001B[38;5;241m=\u001B[39m comment\u001B[38;5;241m.\u001B[39mbody\u001B[38;5;241m.\u001B[39mfind(post_queries[idx])\n",
      "File \u001B[0;32m~/anaconda3/envs/DHIL_Reddit/lib/python3.8/site-packages/praw/models/reddit/base.py:34\u001B[0m, in \u001B[0;36mRedditBase.__getattr__\u001B[0;34m(self, attribute)\u001B[0m\n\u001B[1;32m     32\u001B[0m \u001B[38;5;250m\u001B[39m\u001B[38;5;124;03m\"\"\"Return the value of ``attribute``.\"\"\"\u001B[39;00m\n\u001B[1;32m     33\u001B[0m \u001B[38;5;28;01mif\u001B[39;00m \u001B[38;5;129;01mnot\u001B[39;00m attribute\u001B[38;5;241m.\u001B[39mstartswith(\u001B[38;5;124m\"\u001B[39m\u001B[38;5;124m_\u001B[39m\u001B[38;5;124m\"\u001B[39m) \u001B[38;5;129;01mand\u001B[39;00m \u001B[38;5;129;01mnot\u001B[39;00m \u001B[38;5;28mself\u001B[39m\u001B[38;5;241m.\u001B[39m_fetched:\n\u001B[0;32m---> 34\u001B[0m     \u001B[38;5;28;43mself\u001B[39;49m\u001B[38;5;241;43m.\u001B[39;49m\u001B[43m_fetch\u001B[49m\u001B[43m(\u001B[49m\u001B[43m)\u001B[49m\n\u001B[1;32m     35\u001B[0m     \u001B[38;5;28;01mreturn\u001B[39;00m \u001B[38;5;28mgetattr\u001B[39m(\u001B[38;5;28mself\u001B[39m, attribute)\n\u001B[1;32m     36\u001B[0m \u001B[38;5;28;01mraise\u001B[39;00m \u001B[38;5;167;01mAttributeError\u001B[39;00m(\n\u001B[1;32m     37\u001B[0m     \u001B[38;5;124mf\u001B[39m\u001B[38;5;124m\"\u001B[39m\u001B[38;5;132;01m{\u001B[39;00m\u001B[38;5;28mself\u001B[39m\u001B[38;5;241m.\u001B[39m\u001B[38;5;18m__class__\u001B[39m\u001B[38;5;241m.\u001B[39m\u001B[38;5;18m__name__\u001B[39m\u001B[38;5;132;01m!r}\u001B[39;00m\u001B[38;5;124m object has no attribute \u001B[39m\u001B[38;5;132;01m{\u001B[39;00mattribute\u001B[38;5;132;01m!r}\u001B[39;00m\u001B[38;5;124m\"\u001B[39m\n\u001B[1;32m     38\u001B[0m )\n",
      "File \u001B[0;32m~/anaconda3/envs/DHIL_Reddit/lib/python3.8/site-packages/praw/models/reddit/submission.py:622\u001B[0m, in \u001B[0;36mSubmission._fetch\u001B[0;34m(self)\u001B[0m\n\u001B[1;32m    621\u001B[0m \u001B[38;5;28;01mdef\u001B[39;00m \u001B[38;5;21m_fetch\u001B[39m(\u001B[38;5;28mself\u001B[39m):\n\u001B[0;32m--> 622\u001B[0m     data \u001B[38;5;241m=\u001B[39m \u001B[38;5;28;43mself\u001B[39;49m\u001B[38;5;241;43m.\u001B[39;49m\u001B[43m_fetch_data\u001B[49m\u001B[43m(\u001B[49m\u001B[43m)\u001B[49m\n\u001B[1;32m    623\u001B[0m     submission_listing, comment_listing \u001B[38;5;241m=\u001B[39m data\n\u001B[1;32m    624\u001B[0m     comment_listing \u001B[38;5;241m=\u001B[39m Listing(\u001B[38;5;28mself\u001B[39m\u001B[38;5;241m.\u001B[39m_reddit, _data\u001B[38;5;241m=\u001B[39mcomment_listing[\u001B[38;5;124m\"\u001B[39m\u001B[38;5;124mdata\u001B[39m\u001B[38;5;124m\"\u001B[39m])\n",
      "File \u001B[0;32m~/anaconda3/envs/DHIL_Reddit/lib/python3.8/site-packages/praw/models/reddit/submission.py:640\u001B[0m, in \u001B[0;36mSubmission._fetch_data\u001B[0;34m(self)\u001B[0m\n\u001B[1;32m    638\u001B[0m name, fields, params \u001B[38;5;241m=\u001B[39m \u001B[38;5;28mself\u001B[39m\u001B[38;5;241m.\u001B[39m_fetch_info()\n\u001B[1;32m    639\u001B[0m path \u001B[38;5;241m=\u001B[39m API_PATH[name]\u001B[38;5;241m.\u001B[39mformat(\u001B[38;5;241m*\u001B[39m\u001B[38;5;241m*\u001B[39mfields)\n\u001B[0;32m--> 640\u001B[0m \u001B[38;5;28;01mreturn\u001B[39;00m \u001B[38;5;28;43mself\u001B[39;49m\u001B[38;5;241;43m.\u001B[39;49m\u001B[43m_reddit\u001B[49m\u001B[38;5;241;43m.\u001B[39;49m\u001B[43mrequest\u001B[49m\u001B[43m(\u001B[49m\u001B[43mmethod\u001B[49m\u001B[38;5;241;43m=\u001B[39;49m\u001B[38;5;124;43m\"\u001B[39;49m\u001B[38;5;124;43mGET\u001B[39;49m\u001B[38;5;124;43m\"\u001B[39;49m\u001B[43m,\u001B[49m\u001B[43m \u001B[49m\u001B[43mparams\u001B[49m\u001B[38;5;241;43m=\u001B[39;49m\u001B[43mparams\u001B[49m\u001B[43m,\u001B[49m\u001B[43m \u001B[49m\u001B[43mpath\u001B[49m\u001B[38;5;241;43m=\u001B[39;49m\u001B[43mpath\u001B[49m\u001B[43m)\u001B[49m\n",
      "File \u001B[0;32m~/anaconda3/envs/DHIL_Reddit/lib/python3.8/site-packages/praw/util/deprecate_args.py:43\u001B[0m, in \u001B[0;36m_deprecate_args.<locals>.wrapper.<locals>.wrapped\u001B[0;34m(*args, **kwargs)\u001B[0m\n\u001B[1;32m     36\u001B[0m     arg_string \u001B[38;5;241m=\u001B[39m _generate_arg_string(_old_args[: \u001B[38;5;28mlen\u001B[39m(args)])\n\u001B[1;32m     37\u001B[0m     warn(\n\u001B[1;32m     38\u001B[0m         \u001B[38;5;124mf\u001B[39m\u001B[38;5;124m\"\u001B[39m\u001B[38;5;124mPositional arguments for \u001B[39m\u001B[38;5;132;01m{\u001B[39;00mfunc\u001B[38;5;241m.\u001B[39m\u001B[38;5;18m__qualname__\u001B[39m\u001B[38;5;132;01m!r}\u001B[39;00m\u001B[38;5;124m will no longer be\u001B[39m\u001B[38;5;124m\"\u001B[39m\n\u001B[1;32m     39\u001B[0m         \u001B[38;5;124mf\u001B[39m\u001B[38;5;124m\"\u001B[39m\u001B[38;5;124m supported in PRAW 8.\u001B[39m\u001B[38;5;130;01m\\n\u001B[39;00m\u001B[38;5;124mCall this function with \u001B[39m\u001B[38;5;132;01m{\u001B[39;00marg_string\u001B[38;5;132;01m}\u001B[39;00m\u001B[38;5;124m.\u001B[39m\u001B[38;5;124m\"\u001B[39m,\n\u001B[1;32m     40\u001B[0m         \u001B[38;5;167;01mDeprecationWarning\u001B[39;00m,\n\u001B[1;32m     41\u001B[0m         stacklevel\u001B[38;5;241m=\u001B[39m\u001B[38;5;241m2\u001B[39m,\n\u001B[1;32m     42\u001B[0m     )\n\u001B[0;32m---> 43\u001B[0m \u001B[38;5;28;01mreturn\u001B[39;00m \u001B[43mfunc\u001B[49m\u001B[43m(\u001B[49m\u001B[38;5;241;43m*\u001B[39;49m\u001B[38;5;241;43m*\u001B[39;49m\u001B[38;5;28;43mdict\u001B[39;49m\u001B[43m(\u001B[49m\u001B[38;5;28;43mzip\u001B[39;49m\u001B[43m(\u001B[49m\u001B[43m_old_args\u001B[49m\u001B[43m,\u001B[49m\u001B[43m \u001B[49m\u001B[43margs\u001B[49m\u001B[43m)\u001B[49m\u001B[43m)\u001B[49m\u001B[43m,\u001B[49m\u001B[43m \u001B[49m\u001B[38;5;241;43m*\u001B[39;49m\u001B[38;5;241;43m*\u001B[39;49m\u001B[43mkwargs\u001B[49m\u001B[43m)\u001B[49m\n",
      "File \u001B[0;32m~/anaconda3/envs/DHIL_Reddit/lib/python3.8/site-packages/praw/reddit.py:941\u001B[0m, in \u001B[0;36mReddit.request\u001B[0;34m(self, data, files, json, method, params, path)\u001B[0m\n\u001B[1;32m    939\u001B[0m     \u001B[38;5;28;01mraise\u001B[39;00m ClientException(\u001B[38;5;124m\"\u001B[39m\u001B[38;5;124mAt most one of \u001B[39m\u001B[38;5;124m'\u001B[39m\u001B[38;5;124mdata\u001B[39m\u001B[38;5;124m'\u001B[39m\u001B[38;5;124m or \u001B[39m\u001B[38;5;124m'\u001B[39m\u001B[38;5;124mjson\u001B[39m\u001B[38;5;124m'\u001B[39m\u001B[38;5;124m is supported.\u001B[39m\u001B[38;5;124m\"\u001B[39m)\n\u001B[1;32m    940\u001B[0m \u001B[38;5;28;01mtry\u001B[39;00m:\n\u001B[0;32m--> 941\u001B[0m     \u001B[38;5;28;01mreturn\u001B[39;00m \u001B[38;5;28;43mself\u001B[39;49m\u001B[38;5;241;43m.\u001B[39;49m\u001B[43m_core\u001B[49m\u001B[38;5;241;43m.\u001B[39;49m\u001B[43mrequest\u001B[49m\u001B[43m(\u001B[49m\n\u001B[1;32m    942\u001B[0m \u001B[43m        \u001B[49m\u001B[43mdata\u001B[49m\u001B[38;5;241;43m=\u001B[39;49m\u001B[43mdata\u001B[49m\u001B[43m,\u001B[49m\n\u001B[1;32m    943\u001B[0m \u001B[43m        \u001B[49m\u001B[43mfiles\u001B[49m\u001B[38;5;241;43m=\u001B[39;49m\u001B[43mfiles\u001B[49m\u001B[43m,\u001B[49m\n\u001B[1;32m    944\u001B[0m \u001B[43m        \u001B[49m\u001B[43mjson\u001B[49m\u001B[38;5;241;43m=\u001B[39;49m\u001B[43mjson\u001B[49m\u001B[43m,\u001B[49m\n\u001B[1;32m    945\u001B[0m \u001B[43m        \u001B[49m\u001B[43mmethod\u001B[49m\u001B[38;5;241;43m=\u001B[39;49m\u001B[43mmethod\u001B[49m\u001B[43m,\u001B[49m\n\u001B[1;32m    946\u001B[0m \u001B[43m        \u001B[49m\u001B[43mparams\u001B[49m\u001B[38;5;241;43m=\u001B[39;49m\u001B[43mparams\u001B[49m\u001B[43m,\u001B[49m\n\u001B[1;32m    947\u001B[0m \u001B[43m        \u001B[49m\u001B[43mpath\u001B[49m\u001B[38;5;241;43m=\u001B[39;49m\u001B[43mpath\u001B[49m\u001B[43m,\u001B[49m\n\u001B[1;32m    948\u001B[0m \u001B[43m    \u001B[49m\u001B[43m)\u001B[49m\n\u001B[1;32m    949\u001B[0m \u001B[38;5;28;01mexcept\u001B[39;00m BadRequest \u001B[38;5;28;01mas\u001B[39;00m exception:\n\u001B[1;32m    950\u001B[0m     \u001B[38;5;28;01mtry\u001B[39;00m:\n",
      "File \u001B[0;32m~/anaconda3/envs/DHIL_Reddit/lib/python3.8/site-packages/prawcore/sessions.py:330\u001B[0m, in \u001B[0;36mSession.request\u001B[0;34m(self, method, path, data, files, json, params, timeout)\u001B[0m\n\u001B[1;32m    328\u001B[0m     json[\u001B[38;5;124m\"\u001B[39m\u001B[38;5;124mapi_type\u001B[39m\u001B[38;5;124m\"\u001B[39m] \u001B[38;5;241m=\u001B[39m \u001B[38;5;124m\"\u001B[39m\u001B[38;5;124mjson\u001B[39m\u001B[38;5;124m\"\u001B[39m\n\u001B[1;32m    329\u001B[0m url \u001B[38;5;241m=\u001B[39m urljoin(\u001B[38;5;28mself\u001B[39m\u001B[38;5;241m.\u001B[39m_requestor\u001B[38;5;241m.\u001B[39moauth_url, path)\n\u001B[0;32m--> 330\u001B[0m \u001B[38;5;28;01mreturn\u001B[39;00m \u001B[38;5;28;43mself\u001B[39;49m\u001B[38;5;241;43m.\u001B[39;49m\u001B[43m_request_with_retries\u001B[49m\u001B[43m(\u001B[49m\n\u001B[1;32m    331\u001B[0m \u001B[43m    \u001B[49m\u001B[43mdata\u001B[49m\u001B[38;5;241;43m=\u001B[39;49m\u001B[43mdata\u001B[49m\u001B[43m,\u001B[49m\n\u001B[1;32m    332\u001B[0m \u001B[43m    \u001B[49m\u001B[43mfiles\u001B[49m\u001B[38;5;241;43m=\u001B[39;49m\u001B[43mfiles\u001B[49m\u001B[43m,\u001B[49m\n\u001B[1;32m    333\u001B[0m \u001B[43m    \u001B[49m\u001B[43mjson\u001B[49m\u001B[38;5;241;43m=\u001B[39;49m\u001B[43mjson\u001B[49m\u001B[43m,\u001B[49m\n\u001B[1;32m    334\u001B[0m \u001B[43m    \u001B[49m\u001B[43mmethod\u001B[49m\u001B[38;5;241;43m=\u001B[39;49m\u001B[43mmethod\u001B[49m\u001B[43m,\u001B[49m\n\u001B[1;32m    335\u001B[0m \u001B[43m    \u001B[49m\u001B[43mparams\u001B[49m\u001B[38;5;241;43m=\u001B[39;49m\u001B[43mparams\u001B[49m\u001B[43m,\u001B[49m\n\u001B[1;32m    336\u001B[0m \u001B[43m    \u001B[49m\u001B[43mtimeout\u001B[49m\u001B[38;5;241;43m=\u001B[39;49m\u001B[43mtimeout\u001B[49m\u001B[43m,\u001B[49m\n\u001B[1;32m    337\u001B[0m \u001B[43m    \u001B[49m\u001B[43murl\u001B[49m\u001B[38;5;241;43m=\u001B[39;49m\u001B[43murl\u001B[49m\u001B[43m,\u001B[49m\n\u001B[1;32m    338\u001B[0m \u001B[43m\u001B[49m\u001B[43m)\u001B[49m\n",
      "File \u001B[0;32m~/anaconda3/envs/DHIL_Reddit/lib/python3.8/site-packages/prawcore/sessions.py:266\u001B[0m, in \u001B[0;36mSession._request_with_retries\u001B[0;34m(self, data, files, json, method, params, timeout, url, retry_strategy_state)\u001B[0m\n\u001B[1;32m    253\u001B[0m     \u001B[38;5;28;01mreturn\u001B[39;00m \u001B[38;5;28mself\u001B[39m\u001B[38;5;241m.\u001B[39m_do_retry(\n\u001B[1;32m    254\u001B[0m         data,\n\u001B[1;32m    255\u001B[0m         files,\n\u001B[0;32m   (...)\u001B[0m\n\u001B[1;32m    263\u001B[0m         url,\n\u001B[1;32m    264\u001B[0m     )\n\u001B[1;32m    265\u001B[0m \u001B[38;5;28;01melif\u001B[39;00m response\u001B[38;5;241m.\u001B[39mstatus_code \u001B[38;5;129;01min\u001B[39;00m \u001B[38;5;28mself\u001B[39m\u001B[38;5;241m.\u001B[39mSTATUS_EXCEPTIONS:\n\u001B[0;32m--> 266\u001B[0m     \u001B[38;5;28;01mraise\u001B[39;00m \u001B[38;5;28mself\u001B[39m\u001B[38;5;241m.\u001B[39mSTATUS_EXCEPTIONS[response\u001B[38;5;241m.\u001B[39mstatus_code](response)\n\u001B[1;32m    267\u001B[0m \u001B[38;5;28;01melif\u001B[39;00m response\u001B[38;5;241m.\u001B[39mstatus_code \u001B[38;5;241m==\u001B[39m codes[\u001B[38;5;124m\"\u001B[39m\u001B[38;5;124mno_content\u001B[39m\u001B[38;5;124m\"\u001B[39m]:\n\u001B[1;32m    268\u001B[0m     \u001B[38;5;28;01mreturn\u001B[39;00m\n",
      "\u001B[0;31mTooManyRequests\u001B[0m: received 429 HTTP response"
     ]
    }
   ],
   "source": [
    "# start_time = time.time()\n",
    "\n",
    "comments = scrape_reddit_comments_in_post(posts, 'raw/comments.csv')\n",
    "\n",
    "# end_time = time.time()\n",
    "# elapsed_time = end_time - start_time\n",
    "\n",
    "# print(elapsed_time)"
   ]
  },
  {
   "cell_type": "code",
   "execution_count": null,
   "id": "e8e111ab",
   "metadata": {},
   "outputs": [],
   "source": [
    "comments = pd.read_csv(DATA_FOLDER + 'raw/comments.csv')"
   ]
  },
  {
   "cell_type": "code",
   "execution_count": null,
   "id": "582d9c13",
   "metadata": {},
   "outputs": [],
   "source": [
    "comments.shape"
   ]
  },
  {
   "cell_type": "code",
   "execution_count": null,
   "id": "2e24cb41",
   "metadata": {},
   "outputs": [],
   "source": [
    "comments.head()"
   ]
  },
  {
   "cell_type": "code",
   "execution_count": 45,
   "id": "835f7a31",
   "metadata": {
    "ExecuteTime": {
     "end_time": "2023-08-13T17:31:28.242602Z",
     "start_time": "2023-08-13T17:31:28.233011Z"
    }
   },
   "outputs": [],
   "source": [
    "posts['date'] = posts['date'].apply(lambda x: dt.fromtimestamp(x))\n",
    "comments['date'] = comments['date'].apply(lambda x: dt.fromtimestamp(x))"
   ]
  },
  {
   "cell_type": "code",
   "execution_count": 46,
   "id": "64b90f61-2223-4080-b723-05eda24d653c",
   "metadata": {
    "ExecuteTime": {
     "end_time": "2023-08-13T17:31:29.075529Z",
     "start_time": "2023-08-13T17:31:28.406502Z"
    }
   },
   "outputs": [],
   "source": [
    "search_words_regex = re.compile(\"|\".join(subreddits_by_query.keys()))\n",
    "\n",
    "matching_rows = posts['body'].map(lambda x: True if search_words_regex.search(str(x)) else False) + \\\n",
    "    posts['title'].map(lambda x: True if search_words_regex.search(x) else False)"
   ]
  },
  {
   "cell_type": "code",
   "execution_count": 47,
   "id": "b2d520af-d82c-4822-ac59-bb70d904ead6",
   "metadata": {
    "ExecuteTime": {
     "end_time": "2023-08-13T17:31:29.105244Z",
     "start_time": "2023-08-13T17:31:29.075349Z"
    }
   },
   "outputs": [],
   "source": [
    "posts['content'] = posts['title'] + '. ' + posts['body']\n",
    "comments['content'] = comments['body']\n",
    "\n",
    "posts['type'] = 'post'\n",
    "comments['type'] = 'comment'"
   ]
  },
  {
   "cell_type": "code",
   "execution_count": 48,
   "id": "315d5217",
   "metadata": {
    "ExecuteTime": {
     "end_time": "2023-08-13T17:31:29.107687Z",
     "start_time": "2023-08-13T17:31:29.085319Z"
    }
   },
   "outputs": [
    {
     "data": {
      "text/plain": "   Unnamed: 0 subreddit        query       id             author  \\\n0           0       trt  semaglutide  11n6wmk          Zellenial   \n1           1       trt  semaglutide  116ihmh            7856970   \n2           2       trt  semaglutide  10rz4pf            Bud1985   \n3           3       trt  semaglutide   wc4u7i  Hormonesforme-com   \n4           4       trt  semaglutide  13epai9       Hey_its_Jack   \n\n                                               title                date  \\\n0  Trt works if you work it.. started 1.5 years a... 2023-03-09 18:01:51   \n1               Which TRT clinics offer semaglutide? 2023-02-19 12:22:42   \n2                                        Semaglutide 2023-02-02 14:56:14   \n3  Semaglutide is a revolutionary fat loss medica... 2022-07-30 15:05:59   \n4  Doctors office changed criteria for 'normal le... 2023-05-11 10:38:49   \n\n                                                body  n_comments  upvotes  \\\n0                                                NaN          77       24   \n1                                                NaN          13        1   \n2  Anyone in here have experience taking Semaglut...          17        4   \n3    \\n\\nSemaglutide is a revolutionary new weigh...           0        2   \n4  37y/o male, 250lbs\\n\\nA few months ago, I got ...          66       10   \n\n                                             content  type  \n0                                                NaN  post  \n1                                                NaN  post  \n2  Semaglutide. Anyone in here have experience ta...  post  \n3  Semaglutide is a revolutionary fat loss medica...  post  \n4  Doctors office changed criteria for 'normal le...  post  ",
      "text/html": "<div>\n<style scoped>\n    .dataframe tbody tr th:only-of-type {\n        vertical-align: middle;\n    }\n\n    .dataframe tbody tr th {\n        vertical-align: top;\n    }\n\n    .dataframe thead th {\n        text-align: right;\n    }\n</style>\n<table border=\"1\" class=\"dataframe\">\n  <thead>\n    <tr style=\"text-align: right;\">\n      <th></th>\n      <th>Unnamed: 0</th>\n      <th>subreddit</th>\n      <th>query</th>\n      <th>id</th>\n      <th>author</th>\n      <th>title</th>\n      <th>date</th>\n      <th>body</th>\n      <th>n_comments</th>\n      <th>upvotes</th>\n      <th>content</th>\n      <th>type</th>\n    </tr>\n  </thead>\n  <tbody>\n    <tr>\n      <th>0</th>\n      <td>0</td>\n      <td>trt</td>\n      <td>semaglutide</td>\n      <td>11n6wmk</td>\n      <td>Zellenial</td>\n      <td>Trt works if you work it.. started 1.5 years a...</td>\n      <td>2023-03-09 18:01:51</td>\n      <td>NaN</td>\n      <td>77</td>\n      <td>24</td>\n      <td>NaN</td>\n      <td>post</td>\n    </tr>\n    <tr>\n      <th>1</th>\n      <td>1</td>\n      <td>trt</td>\n      <td>semaglutide</td>\n      <td>116ihmh</td>\n      <td>7856970</td>\n      <td>Which TRT clinics offer semaglutide?</td>\n      <td>2023-02-19 12:22:42</td>\n      <td>NaN</td>\n      <td>13</td>\n      <td>1</td>\n      <td>NaN</td>\n      <td>post</td>\n    </tr>\n    <tr>\n      <th>2</th>\n      <td>2</td>\n      <td>trt</td>\n      <td>semaglutide</td>\n      <td>10rz4pf</td>\n      <td>Bud1985</td>\n      <td>Semaglutide</td>\n      <td>2023-02-02 14:56:14</td>\n      <td>Anyone in here have experience taking Semaglut...</td>\n      <td>17</td>\n      <td>4</td>\n      <td>Semaglutide. Anyone in here have experience ta...</td>\n      <td>post</td>\n    </tr>\n    <tr>\n      <th>3</th>\n      <td>3</td>\n      <td>trt</td>\n      <td>semaglutide</td>\n      <td>wc4u7i</td>\n      <td>Hormonesforme-com</td>\n      <td>Semaglutide is a revolutionary fat loss medica...</td>\n      <td>2022-07-30 15:05:59</td>\n      <td>\\n\\nSemaglutide is a revolutionary new weigh...</td>\n      <td>0</td>\n      <td>2</td>\n      <td>Semaglutide is a revolutionary fat loss medica...</td>\n      <td>post</td>\n    </tr>\n    <tr>\n      <th>4</th>\n      <td>4</td>\n      <td>trt</td>\n      <td>semaglutide</td>\n      <td>13epai9</td>\n      <td>Hey_its_Jack</td>\n      <td>Doctors office changed criteria for 'normal le...</td>\n      <td>2023-05-11 10:38:49</td>\n      <td>37y/o male, 250lbs\\n\\nA few months ago, I got ...</td>\n      <td>66</td>\n      <td>10</td>\n      <td>Doctors office changed criteria for 'normal le...</td>\n      <td>post</td>\n    </tr>\n  </tbody>\n</table>\n</div>"
     },
     "execution_count": 48,
     "metadata": {},
     "output_type": "execute_result"
    }
   ],
   "source": [
    "posts.head()"
   ]
  },
  {
   "cell_type": "code",
   "execution_count": 49,
   "id": "1950cab3",
   "metadata": {
    "ExecuteTime": {
     "end_time": "2023-08-13T17:31:29.108264Z",
     "start_time": "2023-08-13T17:31:29.095695Z"
    }
   },
   "outputs": [],
   "source": [
    "comments.head()"
   ]
  },
  {
   "cell_type": "code",
   "execution_count": 50,
   "id": "23434662-059d-444f-a411-b07b6ba62c6b",
   "metadata": {
    "ExecuteTime": {
     "end_time": "2023-08-13T17:31:29.131416Z",
     "start_time": "2023-08-13T17:31:29.103427Z"
    }
   },
   "outputs": [],
   "source": [
    "cols_to_keep = ['query', 'subreddit', 'type', 'author', 'content', 'date', 'upvotes', 'n_comments']\n",
    "pc = pd.concat((posts[cols_to_keep], comments[cols_to_keep]))\n",
    "# pc = posts[cols_to_keep]"
   ]
  },
  {
   "cell_type": "code",
   "execution_count": 51,
   "id": "46acec71-4f86-4303-bc58-79ecb1e31732",
   "metadata": {
    "ExecuteTime": {
     "end_time": "2023-08-13T17:31:29.429880Z",
     "start_time": "2023-08-13T17:31:29.287226Z"
    }
   },
   "outputs": [],
   "source": [
    "pc['len_text'] = pc['content'].apply(lambda x : len(str(x).split()))"
   ]
  },
  {
   "cell_type": "code",
   "execution_count": 52,
   "id": "d264dc69",
   "metadata": {
    "ExecuteTime": {
     "end_time": "2023-08-13T17:31:29.448630Z",
     "start_time": "2023-08-13T17:31:29.428124Z"
    }
   },
   "outputs": [
    {
     "data": {
      "text/plain": "         query subreddit  type             author  \\\n0  semaglutide       trt  post          Zellenial   \n1  semaglutide       trt  post            7856970   \n2  semaglutide       trt  post            Bud1985   \n3  semaglutide       trt  post  Hormonesforme-com   \n4  semaglutide       trt  post       Hey_its_Jack   \n\n                                             content                date  \\\n0                                                NaN 2023-03-09 18:01:51   \n1                                                NaN 2023-02-19 12:22:42   \n2  Semaglutide. Anyone in here have experience ta... 2023-02-02 14:56:14   \n3  Semaglutide is a revolutionary fat loss medica... 2022-07-30 15:05:59   \n4  Doctors office changed criteria for 'normal le... 2023-05-11 10:38:49   \n\n   upvotes  n_comments  len_text  \n0       24          77         1  \n1        1          13         1  \n2        4          17        35  \n3        2           0       523  \n4       10          66       154  ",
      "text/html": "<div>\n<style scoped>\n    .dataframe tbody tr th:only-of-type {\n        vertical-align: middle;\n    }\n\n    .dataframe tbody tr th {\n        vertical-align: top;\n    }\n\n    .dataframe thead th {\n        text-align: right;\n    }\n</style>\n<table border=\"1\" class=\"dataframe\">\n  <thead>\n    <tr style=\"text-align: right;\">\n      <th></th>\n      <th>query</th>\n      <th>subreddit</th>\n      <th>type</th>\n      <th>author</th>\n      <th>content</th>\n      <th>date</th>\n      <th>upvotes</th>\n      <th>n_comments</th>\n      <th>len_text</th>\n    </tr>\n  </thead>\n  <tbody>\n    <tr>\n      <th>0</th>\n      <td>semaglutide</td>\n      <td>trt</td>\n      <td>post</td>\n      <td>Zellenial</td>\n      <td>NaN</td>\n      <td>2023-03-09 18:01:51</td>\n      <td>24</td>\n      <td>77</td>\n      <td>1</td>\n    </tr>\n    <tr>\n      <th>1</th>\n      <td>semaglutide</td>\n      <td>trt</td>\n      <td>post</td>\n      <td>7856970</td>\n      <td>NaN</td>\n      <td>2023-02-19 12:22:42</td>\n      <td>1</td>\n      <td>13</td>\n      <td>1</td>\n    </tr>\n    <tr>\n      <th>2</th>\n      <td>semaglutide</td>\n      <td>trt</td>\n      <td>post</td>\n      <td>Bud1985</td>\n      <td>Semaglutide. Anyone in here have experience ta...</td>\n      <td>2023-02-02 14:56:14</td>\n      <td>4</td>\n      <td>17</td>\n      <td>35</td>\n    </tr>\n    <tr>\n      <th>3</th>\n      <td>semaglutide</td>\n      <td>trt</td>\n      <td>post</td>\n      <td>Hormonesforme-com</td>\n      <td>Semaglutide is a revolutionary fat loss medica...</td>\n      <td>2022-07-30 15:05:59</td>\n      <td>2</td>\n      <td>0</td>\n      <td>523</td>\n    </tr>\n    <tr>\n      <th>4</th>\n      <td>semaglutide</td>\n      <td>trt</td>\n      <td>post</td>\n      <td>Hey_its_Jack</td>\n      <td>Doctors office changed criteria for 'normal le...</td>\n      <td>2023-05-11 10:38:49</td>\n      <td>10</td>\n      <td>66</td>\n      <td>154</td>\n    </tr>\n  </tbody>\n</table>\n</div>"
     },
     "execution_count": 52,
     "metadata": {},
     "output_type": "execute_result"
    }
   ],
   "source": [
    "pc.head()"
   ]
  },
  {
   "cell_type": "code",
   "execution_count": 53,
   "id": "7e424670",
   "metadata": {
    "ExecuteTime": {
     "end_time": "2023-08-13T17:31:29.602916Z",
     "start_time": "2023-08-13T17:31:29.593687Z"
    }
   },
   "outputs": [
    {
     "name": "stdout",
     "output_type": "stream",
     "text": [
      "(14391, 9)\n"
     ]
    }
   ],
   "source": [
    "print(pc.shape)"
   ]
  },
  {
   "cell_type": "code",
   "execution_count": 54,
   "id": "cba32f6e",
   "metadata": {
    "ExecuteTime": {
     "end_time": "2023-08-13T17:31:29.841876Z",
     "start_time": "2023-08-13T17:31:29.773436Z"
    }
   },
   "outputs": [],
   "source": [
    "# Fill empty cells and remove some weird html tags\n",
    "pc['content'].fillna(\"\", inplace=True)\n",
    "pc.content = pc.content.str.replace(\"http\\S+\", \"\")\n",
    "pc.content = pc.content.str.replace(\"\\\\n\", \" \")\n",
    "pc.content = pc.content.str.replace(\"&gt;\", \"\")\n",
    "pc.content = pc.content.str.replace(\"\\\\\", \"\")"
   ]
  },
  {
   "cell_type": "code",
   "execution_count": 55,
   "id": "f046f2f7",
   "metadata": {
    "ExecuteTime": {
     "end_time": "2023-08-13T17:31:29.928161Z",
     "start_time": "2023-08-13T17:31:29.922404Z"
    }
   },
   "outputs": [
    {
     "data": {
      "text/plain": "         query subreddit  type             author  \\\n0  semaglutide       trt  post          Zellenial   \n1  semaglutide       trt  post            7856970   \n2  semaglutide       trt  post            Bud1985   \n3  semaglutide       trt  post  Hormonesforme-com   \n4  semaglutide       trt  post       Hey_its_Jack   \n\n                                             content                date  \\\n0                                                    2023-03-09 18:01:51   \n1                                                    2023-02-19 12:22:42   \n2  Semaglutide. Anyone in here have experience ta... 2023-02-02 14:56:14   \n3  Semaglutide is a revolutionary fat loss medica... 2022-07-30 15:05:59   \n4  Doctors office changed criteria for 'normal le... 2023-05-11 10:38:49   \n\n   upvotes  n_comments  len_text  \n0       24          77         1  \n1        1          13         1  \n2        4          17        35  \n3        2           0       523  \n4       10          66       154  ",
      "text/html": "<div>\n<style scoped>\n    .dataframe tbody tr th:only-of-type {\n        vertical-align: middle;\n    }\n\n    .dataframe tbody tr th {\n        vertical-align: top;\n    }\n\n    .dataframe thead th {\n        text-align: right;\n    }\n</style>\n<table border=\"1\" class=\"dataframe\">\n  <thead>\n    <tr style=\"text-align: right;\">\n      <th></th>\n      <th>query</th>\n      <th>subreddit</th>\n      <th>type</th>\n      <th>author</th>\n      <th>content</th>\n      <th>date</th>\n      <th>upvotes</th>\n      <th>n_comments</th>\n      <th>len_text</th>\n    </tr>\n  </thead>\n  <tbody>\n    <tr>\n      <th>0</th>\n      <td>semaglutide</td>\n      <td>trt</td>\n      <td>post</td>\n      <td>Zellenial</td>\n      <td></td>\n      <td>2023-03-09 18:01:51</td>\n      <td>24</td>\n      <td>77</td>\n      <td>1</td>\n    </tr>\n    <tr>\n      <th>1</th>\n      <td>semaglutide</td>\n      <td>trt</td>\n      <td>post</td>\n      <td>7856970</td>\n      <td></td>\n      <td>2023-02-19 12:22:42</td>\n      <td>1</td>\n      <td>13</td>\n      <td>1</td>\n    </tr>\n    <tr>\n      <th>2</th>\n      <td>semaglutide</td>\n      <td>trt</td>\n      <td>post</td>\n      <td>Bud1985</td>\n      <td>Semaglutide. Anyone in here have experience ta...</td>\n      <td>2023-02-02 14:56:14</td>\n      <td>4</td>\n      <td>17</td>\n      <td>35</td>\n    </tr>\n    <tr>\n      <th>3</th>\n      <td>semaglutide</td>\n      <td>trt</td>\n      <td>post</td>\n      <td>Hormonesforme-com</td>\n      <td>Semaglutide is a revolutionary fat loss medica...</td>\n      <td>2022-07-30 15:05:59</td>\n      <td>2</td>\n      <td>0</td>\n      <td>523</td>\n    </tr>\n    <tr>\n      <th>4</th>\n      <td>semaglutide</td>\n      <td>trt</td>\n      <td>post</td>\n      <td>Hey_its_Jack</td>\n      <td>Doctors office changed criteria for 'normal le...</td>\n      <td>2023-05-11 10:38:49</td>\n      <td>10</td>\n      <td>66</td>\n      <td>154</td>\n    </tr>\n  </tbody>\n</table>\n</div>"
     },
     "execution_count": 55,
     "metadata": {},
     "output_type": "execute_result"
    }
   ],
   "source": [
    "pc.head()"
   ]
  },
  {
   "cell_type": "code",
   "execution_count": 56,
   "id": "fe439183",
   "metadata": {
    "ExecuteTime": {
     "end_time": "2023-08-13T17:31:30.094944Z",
     "start_time": "2023-08-13T17:31:30.080702Z"
    }
   },
   "outputs": [
    {
     "name": "stdout",
     "output_type": "stream",
     "text": [
      "(14391, 9)\n"
     ]
    }
   ],
   "source": [
    "print(pc.shape)"
   ]
  },
  {
   "cell_type": "code",
   "execution_count": 57,
   "id": "203635b2-bea0-4d5d-91cc-f02d8e393701",
   "metadata": {
    "tags": [],
    "ExecuteTime": {
     "end_time": "2023-08-13T17:31:30.605755Z",
     "start_time": "2023-08-13T17:31:30.460956Z"
    }
   },
   "outputs": [],
   "source": [
    "pc.to_csv(DATA_FOLDER + \"/processed/posts_and_comments.csv\")"
   ]
  },
  {
   "cell_type": "code",
   "execution_count": null,
   "id": "f1518dff",
   "metadata": {},
   "outputs": [],
   "source": []
  }
 ],
 "metadata": {
  "kernelspec": {
   "name": "python3",
   "language": "python",
   "display_name": "Python 3 (ipykernel)"
  },
  "language_info": {
   "codemirror_mode": {
    "name": "ipython",
    "version": 3
   },
   "file_extension": ".py",
   "mimetype": "text/x-python",
   "name": "python",
   "nbconvert_exporter": "python",
   "pygments_lexer": "ipython3",
   "version": "3.8.17"
  }
 },
 "nbformat": 4,
 "nbformat_minor": 5
}
