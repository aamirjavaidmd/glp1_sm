{
 "cells": [
  {
   "cell_type": "code",
   "execution_count": 1,
   "id": "6daa69c5",
   "metadata": {
    "ExecuteTime": {
     "end_time": "2023-08-14T16:44:26.418911Z",
     "start_time": "2023-08-14T16:44:24.568892Z"
    }
   },
   "outputs": [],
   "source": [
    "# Import required libraries\n",
    "import pandas as pd\n",
    "import spacy\n",
    "import random\n",
    "from transformers import pipeline\n",
    "import json\n",
    "import numpy as np\n",
    "import re\n",
    "nlp = spacy.load('en_core_web_sm')"
   ]
  },
  {
   "cell_type": "code",
   "execution_count": 2,
   "id": "14436271",
   "metadata": {
    "ExecuteTime": {
     "end_time": "2023-08-14T16:44:26.420866Z",
     "start_time": "2023-08-14T16:44:26.419327Z"
    }
   },
   "outputs": [],
   "source": [
    "DATA_FOLDER = '../data/'\n",
    "VARIABLE_FOLDER = '../variables/'\n",
    "FIGURE_FOLDER = '../reports/'"
   ]
  },
  {
   "cell_type": "code",
   "execution_count": 3,
   "id": "bab2619c",
   "metadata": {
    "ExecuteTime": {
     "end_time": "2023-08-14T16:44:26.526731Z",
     "start_time": "2023-08-14T16:44:26.420310Z"
    }
   },
   "outputs": [],
   "source": [
    "# Load preprocessed data with numbers and some punctuation marks\n",
    "df = pd.read_csv(DATA_FOLDER + 'processed/assigned_topics.csv')\n",
    "\n",
    "texts_list = df.content.to_list()"
   ]
  },
  {
   "cell_type": "code",
   "execution_count": 4,
   "id": "434910d9",
   "metadata": {
    "ExecuteTime": {
     "end_time": "2023-08-14T16:44:26.534374Z",
     "start_time": "2023-08-14T16:44:26.528246Z"
    }
   },
   "outputs": [
    {
     "data": {
      "text/plain": "   Unnamed: 0        query subreddit  type              author  \\\n0           2  semaglutide       trt  post             Bud1985   \n1           3  semaglutide       trt  post   Hormonesforme-com   \n2           4  semaglutide       trt  post        Hey_its_Jack   \n3           6  semaglutide       trt  post  Frontyardgoinghard   \n4           7  semaglutide       trt  post  BravoAlphaMikeFoxt   \n\n                                             content                 date  \\\n0  Semaglutide. Anyone in here have experience ta...  2023-02-02 14:56:14   \n1  Semaglutide is a revolutionary fat loss medica...  2022-07-30 15:05:59   \n2  Doctors office changed criteria for 'normal le...  2023-05-11 10:38:49   \n3  Advice. 30 year old 6ft 270lbs. I made a post ...  2023-04-28 01:08:07   \n4  Blood Work and suggestions. 49 yr old 5’7 260#...  2023-05-23 18:07:07   \n\n   upvotes  n_comments  len_text  Topic  Group  \\\n0        4          17        35      5      3   \n1        2           0       523      5      3   \n2       10          66       154     12      3   \n3        3          30       207     12      3   \n4        1           4       123      5      3   \n\n                                            Keywords             datetime  \\\n0  \"semaglutide\", \"appetite\", \"b12\", \"fat\", \"lira...  2023-02-02 14:56:14   \n1  \"semaglutide\", \"appetite\", \"b12\", \"fat\", \"lira...  2022-07-30 15:05:59   \n2  \"pcos\", \"testosterone\", \"hair\", \"birth\", \"peri...  2023-05-11 10:38:49   \n3  \"pcos\", \"testosterone\", \"hair\", \"birth\", \"peri...  2023-04-28 01:08:07   \n4  \"semaglutide\", \"appetite\", \"b12\", \"fat\", \"lira...  2023-05-23 18:07:07   \n\n   date_year  \n0       2023  \n1       2022  \n2       2023  \n3       2023  \n4       2023  ",
      "text/html": "<div>\n<style scoped>\n    .dataframe tbody tr th:only-of-type {\n        vertical-align: middle;\n    }\n\n    .dataframe tbody tr th {\n        vertical-align: top;\n    }\n\n    .dataframe thead th {\n        text-align: right;\n    }\n</style>\n<table border=\"1\" class=\"dataframe\">\n  <thead>\n    <tr style=\"text-align: right;\">\n      <th></th>\n      <th>Unnamed: 0</th>\n      <th>query</th>\n      <th>subreddit</th>\n      <th>type</th>\n      <th>author</th>\n      <th>content</th>\n      <th>date</th>\n      <th>upvotes</th>\n      <th>n_comments</th>\n      <th>len_text</th>\n      <th>Topic</th>\n      <th>Group</th>\n      <th>Keywords</th>\n      <th>datetime</th>\n      <th>date_year</th>\n    </tr>\n  </thead>\n  <tbody>\n    <tr>\n      <th>0</th>\n      <td>2</td>\n      <td>semaglutide</td>\n      <td>trt</td>\n      <td>post</td>\n      <td>Bud1985</td>\n      <td>Semaglutide. Anyone in here have experience ta...</td>\n      <td>2023-02-02 14:56:14</td>\n      <td>4</td>\n      <td>17</td>\n      <td>35</td>\n      <td>5</td>\n      <td>3</td>\n      <td>\"semaglutide\", \"appetite\", \"b12\", \"fat\", \"lira...</td>\n      <td>2023-02-02 14:56:14</td>\n      <td>2023</td>\n    </tr>\n    <tr>\n      <th>1</th>\n      <td>3</td>\n      <td>semaglutide</td>\n      <td>trt</td>\n      <td>post</td>\n      <td>Hormonesforme-com</td>\n      <td>Semaglutide is a revolutionary fat loss medica...</td>\n      <td>2022-07-30 15:05:59</td>\n      <td>2</td>\n      <td>0</td>\n      <td>523</td>\n      <td>5</td>\n      <td>3</td>\n      <td>\"semaglutide\", \"appetite\", \"b12\", \"fat\", \"lira...</td>\n      <td>2022-07-30 15:05:59</td>\n      <td>2022</td>\n    </tr>\n    <tr>\n      <th>2</th>\n      <td>4</td>\n      <td>semaglutide</td>\n      <td>trt</td>\n      <td>post</td>\n      <td>Hey_its_Jack</td>\n      <td>Doctors office changed criteria for 'normal le...</td>\n      <td>2023-05-11 10:38:49</td>\n      <td>10</td>\n      <td>66</td>\n      <td>154</td>\n      <td>12</td>\n      <td>3</td>\n      <td>\"pcos\", \"testosterone\", \"hair\", \"birth\", \"peri...</td>\n      <td>2023-05-11 10:38:49</td>\n      <td>2023</td>\n    </tr>\n    <tr>\n      <th>3</th>\n      <td>6</td>\n      <td>semaglutide</td>\n      <td>trt</td>\n      <td>post</td>\n      <td>Frontyardgoinghard</td>\n      <td>Advice. 30 year old 6ft 270lbs. I made a post ...</td>\n      <td>2023-04-28 01:08:07</td>\n      <td>3</td>\n      <td>30</td>\n      <td>207</td>\n      <td>12</td>\n      <td>3</td>\n      <td>\"pcos\", \"testosterone\", \"hair\", \"birth\", \"peri...</td>\n      <td>2023-04-28 01:08:07</td>\n      <td>2023</td>\n    </tr>\n    <tr>\n      <th>4</th>\n      <td>7</td>\n      <td>semaglutide</td>\n      <td>trt</td>\n      <td>post</td>\n      <td>BravoAlphaMikeFoxt</td>\n      <td>Blood Work and suggestions. 49 yr old 5’7 260#...</td>\n      <td>2023-05-23 18:07:07</td>\n      <td>1</td>\n      <td>4</td>\n      <td>123</td>\n      <td>5</td>\n      <td>3</td>\n      <td>\"semaglutide\", \"appetite\", \"b12\", \"fat\", \"lira...</td>\n      <td>2023-05-23 18:07:07</td>\n      <td>2023</td>\n    </tr>\n  </tbody>\n</table>\n</div>"
     },
     "execution_count": 4,
     "metadata": {},
     "output_type": "execute_result"
    }
   ],
   "source": [
    "df.head()"
   ]
  },
  {
   "cell_type": "code",
   "execution_count": 5,
   "id": "517f3794",
   "metadata": {
    "ExecuteTime": {
     "end_time": "2023-08-14T16:44:26.809209Z",
     "start_time": "2023-08-14T16:44:26.537700Z"
    }
   },
   "outputs": [
    {
     "name": "stderr",
     "output_type": "stream",
     "text": [
      "[nltk_data] Downloading package stopwords to\n",
      "[nltk_data]     /Users/sbaviriseaty/nltk_data...\n",
      "[nltk_data]   Package stopwords is already up-to-date!\n"
     ]
    }
   ],
   "source": [
    "# Import the necessary libraries\n",
    "import nltk\n",
    "from nltk.corpus import stopwords\n",
    "import string\n",
    "\n",
    "nltk.download('stopwords')\n",
    "\n",
    "# Function to generate interactive WordTree webpages\n",
    "def createWordTrees(query):\n",
    "\n",
    "    # Initialize the list of sentences\n",
    "    sentences = []\n",
    "\n",
    "    # Function to process each sentence and remove stop words and punctuation\n",
    "    def allSentences(x):\n",
    "        doc = nlp(str(x))\n",
    "\n",
    "        # Get the list of English stop words\n",
    "        stop_words = set(stopwords.words('english'))\n",
    "\n",
    "        # Get the set of punctuation characters\n",
    "        punctuation = set(string.punctuation)\n",
    "\n",
    "        # Iterate through the tokens in the sentence and filter out the stop words and punctuation\n",
    "        filtered_sentence = [token.text for token in doc if token.text.lower() not in stop_words and token.text not in punctuation]\n",
    "\n",
    "        # Join the filtered words back to form a sentence\n",
    "        filtered_sentence = \" \".join(filtered_sentence)\n",
    "\n",
    "        # Append the filtered sentence to the sentences list\n",
    "        sentences.append(filtered_sentence)\n",
    "\n",
    "#     sample = pd.read_csv(f\"FinalLabelsSample{sampNo}.csv\")\n",
    "\n",
    "#     temp = df.merge(sample, how='inner', left_on='id', right_on='ids')\n",
    "    temp = df.copy()\n",
    "    temp['date'] = pd.to_datetime(temp['date'])\n",
    "    temp.set_index('date', inplace=True)\n",
    "    print(len(temp))\n",
    "\n",
    "    #clusterdf = temp[(temp.labels == 1) & (temp.index.month >= 5) & (temp.index.month <=10) & (temp.index.year == 2008)].copy()\n",
    "#     for i in range(1, 13):\n",
    "#     print(temp.query == query)\n",
    "    clusterdf = temp[temp['query'] == query].copy()\n",
    "    print(len(clusterdf))\n",
    "    clusterdf['dummy'] = clusterdf['content'].map(\n",
    "        lambda x: allSentences(x))\n",
    "\n",
    "    print(len(sentences))\n",
    "    #sents = clusterdf['title'].to_list()\n",
    "\n",
    "    # Shuffle the sentences twice thoroughly before using as an input in WordTree\n",
    "    random.shuffle(sentences)\n",
    "    random.shuffle(sentences)\n",
    "\n",
    "    # Limiting the max number of sentences to 10,000 due to performance issues. Higher number of sentences take more memory and time to load and vice-versa\n",
    "    sentences = sentences[:1000]\n",
    "\n",
    "    sentsList = [[sent] for sent in sentences]\n",
    "    use = str(sentsList)[1:-1]\n",
    "    \n",
    "    data = calculate_sentiments(sentsList, query)"
   ]
  },
  {
   "cell_type": "code",
   "execution_count": 6,
   "id": "5b040837",
   "metadata": {
    "ExecuteTime": {
     "end_time": "2023-08-14T16:44:30.380893Z",
     "start_time": "2023-08-14T16:44:26.809511Z"
    }
   },
   "outputs": [
    {
     "name": "stderr",
     "output_type": "stream",
     "text": [
      "Some weights of the model checkpoint at j-hartmann/sentiment-roberta-large-english-3-classes were not used when initializing RobertaForSequenceClassification: ['roberta.pooler.dense.bias', 'roberta.pooler.dense.weight']\n",
      "- This IS expected if you are initializing RobertaForSequenceClassification from the checkpoint of a model trained on another task or with another architecture (e.g. initializing a BertForSequenceClassification model from a BertForPreTraining model).\n",
      "- This IS NOT expected if you are initializing RobertaForSequenceClassification from the checkpoint of a model that you expect to be exactly identical (initializing a BertForSequenceClassification model from a BertForSequenceClassification model).\n",
      "/Users/sbaviriseaty/anaconda3/envs/DHIL_Reddit/lib/python3.8/site-packages/transformers/pipelines/text_classification.py:104: UserWarning: `return_all_scores` is now deprecated,  if want a similar functionality use `top_k=None` instead of `return_all_scores=True` or `top_k=1` instead of `return_all_scores=False`.\n",
      "  warnings.warn(\n",
      "Xformers is not installed correctly. If you want to use memory_efficient_attention to accelerate training use the following command to install Xformers\n",
      "pip install xformers.\n"
     ]
    }
   ],
   "source": [
    "import numpy as np\n",
    "\n",
    "# Load the sentiment analysis model\n",
    "sentiment_analysis = pipeline(\"text-classification\", model=\"j-hartmann/sentiment-roberta-large-english-3-classes\", return_all_scores=True)\n",
    "\n",
    "def split_text_into_phrases(text):\n",
    "    # Split the text into phrases of 512 characters each\n",
    "    phrase_length = 512\n",
    "    phrases = [text[i:i + phrase_length] for i in range(0, len(text), phrase_length)]\n",
    "    return phrases\n",
    "\n",
    "def find_string_sentiment(text):\n",
    "    len_text = len(text)\n",
    "\n",
    "    # Split the text into phrases of 512 characters each\n",
    "    phrases = split_text_into_phrases(text)\n",
    "\n",
    "    sents = np.empty((len(phrases), 3))\n",
    "\n",
    "    for i, phrase in enumerate(phrases):\n",
    "        # Perform sentiment analysis on the current phrase\n",
    "        sentiment_i = sentiment_analysis(phrase)\n",
    "        sents[i, :] = sentiment_i[0][0]['score'], sentiment_i[0][1]['score'], sentiment_i[0][2]['score']\n",
    "\n",
    "    return np.mean(sents, axis=0)\n"
   ]
  },
  {
   "cell_type": "code",
   "execution_count": 7,
   "id": "15d9f39d",
   "metadata": {
    "ExecuteTime": {
     "end_time": "2023-08-14T16:44:30.381151Z",
     "start_time": "2023-08-14T16:44:30.378899Z"
    }
   },
   "outputs": [],
   "source": [
    "from transformers import pipeline\n",
    "\n",
    "def calculate_sentiments(sentsList, query):\n",
    "    \n",
    "    phrases = sentsList\n",
    "    phrases = [phrase[0] for phrase in phrases]\n",
    "    print(phrases[:5])\n",
    "    data = [['phrase', 'size', 'value']]\n",
    "\n",
    "    # Perform sentiment analysis on each phrase and add data to the list\n",
    "    for phrase in phrases:\n",
    "        size = 1  # You can customize the size value here if needed\n",
    "        scores = find_string_sentiment(phrase)\n",
    "        value = np.argmax(scores)\n",
    "\n",
    "        data.append([phrase, size, value])\n",
    "    \n",
    "    create_page(data, query)"
   ]
  },
  {
   "cell_type": "code",
   "execution_count": 8,
   "id": "3adf7080",
   "metadata": {
    "ExecuteTime": {
     "end_time": "2023-08-14T16:44:30.384857Z",
     "start_time": "2023-08-14T16:44:30.383001Z"
    }
   },
   "outputs": [],
   "source": [
    "def create_page(data, query):   \n",
    "#     print(data[0])\n",
    "#     json_data = json.dumps(data)\n",
    "#     print(str(data))\n",
    "#     print(json_data)\n",
    "    \n",
    "    # HTML page with Javascript to enable interative web interface\n",
    "    text = '''\n",
    "        <html>\n",
    "          <head>\n",
    "            <script type=\"text/javascript\" src=\"https://www.gstatic.com/charts/loader.js\"></script>\n",
    "            <script type=\"text/javascript\">\n",
    "              google.charts.load('current', {packages:['wordtree']});\n",
    "              google.charts.setOnLoadCallback(drawChart);\n",
    "\n",
    "              function drawChart() {\n",
    "              console.log('drawing!')\n",
    "            var data = new google.visualization.arrayToDataTable('''+str(data)+''');\n",
    "\n",
    "            // Select root word\n",
    "            var root = document.getElementById('root').value || '';\n",
    "            var chartType = document.querySelector('input[name = \"type\"]:checked').value || '';\n",
    "\n",
    "                var options = {\n",
    "                  wordtree: {\n",
    "                    format: 'implicit',\n",
    "                    type: chartType,\n",
    "                    word: root,\n",
    "                    colors: ['red', 'black', 'green']\n",
    "                  }\n",
    "                };\n",
    "\n",
    "            var chart = new google.visualization.WordTree(document.getElementById('wordtree_basic'));\n",
    "                chart.draw(data, options);\n",
    "              }\n",
    "\n",
    "            </script>\n",
    "          </head>\n",
    "          <body>\n",
    "            <p>\n",
    "            <b><label for=\"root\">Root word:&nbsp;</label></b>\n",
    "          <input value='''+query+''' id=\"root\" />\n",
    "          <input type=\"button\" value=\"go\" id=\"go\" onClick=\"drawChart();\" />\n",
    "            &emsp;&emsp;\n",
    "            <b><label for=\"type\">Tree type:&nbsp;</label></b>\n",
    "            <input type=\"radio\" id=\"r1\" name=\"type\" value=\"double\" checked=\"checked\" onClick=\"drawChart();\" /> Double\n",
    "            <input type=\"radio\" id=\"r2\" name=\"type\" value=\"suffix\" onClick=\"drawChart();\" /> Suffix\n",
    "            <input type=\"radio\" id=\"r3\" name=\"type\" value=\"prefix\" onClick=\"drawChart();\" /> Prefix\n",
    "\n",
    "            <br><i>(try: \"climate\", \"energy\", \"environment\" etc.)</i>\n",
    "            <div id=\"wordtree_basic\" style=\"width: 1600px; height: 800px;\"></div>\n",
    "            </p>\n",
    "\n",
    "            <script>\n",
    "              var getInput = document.getElementById(\"root\");\n",
    "\n",
    "              getInput.addEventListener(\"keyup\", function(event) {\n",
    "                if (event.keyCode === 13) {\n",
    "                  event.preventDefault();\n",
    "                  document.getElementById(\"go\").click();\n",
    "                }\n",
    "              });              \n",
    "            </script>\n",
    "\n",
    "          </body>\n",
    "        </html>\n",
    "\n",
    "    '''\n",
    "\n",
    "    file = open(f\"Query_{query}.html\", \"w\")\n",
    "    file.write(text)\n",
    "    file.close()\n",
    "\n",
    "#     sentences = []"
   ]
  },
  {
   "cell_type": "code",
   "execution_count": 9,
   "id": "4f850dcc",
   "metadata": {
    "ExecuteTime": {
     "end_time": "2023-08-14T16:48:59.346799Z",
     "start_time": "2023-08-14T16:44:30.385971Z"
    }
   },
   "outputs": [
    {
     "name": "stdout",
     "output_type": "stream",
     "text": [
      "12514\n",
      "1206\n",
      "1206\n",
      "['Wegovy Journey Need Know 7 Wegovy injections across 8 weeks   4 injections .25 mg 3 injections .5 mg    lost 20 pounds Wegovy    Sounds amazing right    Well n’t    took .25 mg 4 weeks instantly felt take effect mild diarrhea indigestion would gag thought food lucky eat twice day got frequent migraines ignored symptoms told would take bit time get used Wegovy    48 hours first injection .5 mg pretty bad diarrhea nausea help bland diet zofran fine days    48 hours second injection .5 mg curled ball crying pain abdomen severe diarrhea nausea Zofran could n’t touch worst ever experienced low fever 6 week check prescribing doctor day said likely battling stomach flu n’t caused Wegovy functioning end day    took extra week injections still recovering feeling best eating much third injection 2 weeks second injection    24 hours third injection projectile vomiting dealing severe diarrhea ever terrible indigestion abdomen pain 7/10 fever Three days later getting worse n’t kept food liquids knew dehydrated pain making worry something wrong went ER CT scan labs showed dehydrated … Got fluids sent way    Fast forward 36 hours symptoms continued even severe toilet every 30 minutes least dared try drink eat something throwing minutes n’t sure would make bathroom … legs hands face numb lips white blue skin pale ’ve ever seen slightly confused could n’t speak clearly called ER trip number two    abdomen pain 10/10 continued throw car ride head spinning motion ER took 3 separate IVs get minimum blood needed 2 vials painful IVs ever experienced given fluids morphine anti nausea diarrhea medications left rest hours later discharged lab results n’t bad enough keep continued throw deal diarrhea got home    Every nurse doctor spoke told familiar Wegovy severity symptoms surprise ’ve admitted many people symptoms continue weeks told returned one time symptoms would likely admitted    Moral story Please aware symptoms Make wise choices n’t ignore symptoms scale', \"Medical Weight Loss Supplements Hi everyone   came home doctors appointment OBGYN recommends start medical weight loss program gave 2 choices recommends Contrave Wegovy let know Wegovy typically n't covered health insurance Contrave usually wants research see 'm comfortable anyone gone medical weight loss programs experience   initial thought go Wegovy pamphlet given says could cause kidney damage Kidney damage obviously great circumstance makes particularly worried received positive RPR bloodwork lab syphilis positive RPR could   indicate possible autoimmune disorder heaven forbid lupus kidney damage definitely big concern   Contrave hand based minimal info 've read seems like hunger suppressant yes 'm overweight n't currently issues overeating   also want make note 've working nutritionist since September part reason n't issues overeating close 50 pounds let OBGYN know losing weight guess need lose actively start fertility journey   top prescribed Myo Chiro inositol supplement Fairhaven let know 'm currently taking Ovasitol wants switch instead n't know 's Also prescribed Berberine Chasteberry anyone experience supplements   've read far thank\", \"Australia folks Hi Australia folks hoping input info   appt new endocrinologist week plan raise issue incretins practice prescribes hoping meaningful conversation plus side 'm diabetic recent A1C came back fine BMI 30 high enough meds could indicated high Fasting Glucose number   'm keen hear input want points clear mind seeing   First liraglutide Saxenda vs semaglutide Ozempic Wegovy use availability cost    know liraglutide injections daily sema weekly clearly would prefer weekly available Australia wonder might start lira move sema available idea cost ahm insurance may cover 50 mostly pocket   Finally case n't see eye eye   'd love hear anyone endo gp incretin friendly mine Sydney area n't want post could DM   'd also like know getting prescriptions via GP endo      Thanks heaps help support communities   cross posted places\", 'saxenda VLCD 800 kcal wondering anyone saxenda combined vlcd like meal replacement shakes    yes going Thanks', 'Lapse medication due new new dosage refill .. Hi Cigna insurance trouble getting Wegovy approved finished first month Wednesday last week time dosage gone .25 mg .50 mg still waiting refill increased dosage approved point ’ve meds week ’ve left multiple messages support channel last week response Super frustrated sure']\n"
     ]
    }
   ],
   "source": [
    "createWordTrees('wegovy')"
   ]
  },
  {
   "cell_type": "code",
   "execution_count": 9,
   "id": "07fe4bc2",
   "metadata": {
    "ExecuteTime": {
     "end_time": "2023-08-14T16:48:59.350198Z",
     "start_time": "2023-08-14T16:48:59.342708Z"
    }
   },
   "outputs": [],
   "source": []
  }
 ],
 "metadata": {
  "kernelspec": {
   "name": "python3",
   "language": "python",
   "display_name": "Python 3 (ipykernel)"
  },
  "language_info": {
   "codemirror_mode": {
    "name": "ipython",
    "version": 3
   },
   "file_extension": ".py",
   "mimetype": "text/x-python",
   "name": "python",
   "nbconvert_exporter": "python",
   "pygments_lexer": "ipython3",
   "version": "3.8.17"
  }
 },
 "nbformat": 4,
 "nbformat_minor": 5
}
